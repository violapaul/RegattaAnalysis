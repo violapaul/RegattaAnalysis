{
 "cells": [
  {
   "cell_type": "markdown",
   "metadata": {},
   "source": [
    "# NOAA Tides Module\n",
    "\n",
    "**This is a literate notebook.**\n",
    "\n",
    "The goal of this module is to pull NOAA tides data and provide a fast and simple interface.\n",
    "\n",
    "## NOAA tides data\n",
    "\n",
    "NOAA has a ton of tides data.  And NOAA has been around for a long time.  As a result the interfaces are a bit duplicative.\n",
    "\n",
    "Super helpful introductory page: https://tidesandcurrents.noaa.gov/PageHelp.html\n",
    "\n",
    "The best, most modern, interface is web service which allows you to pull down a CSV of tide predictions (and a ton of other info).\n",
    "\n",
    "A pretty hand URL generator for this web service is here:  https://tidesandcurrents.noaa.gov/api-helper/url-generator.html  Using these pages, you can fill in a form and it hands you back a URL which can be used to pull the requested data.\n",
    "\n",
    "\n",
    "\n",
    "\n",
    "Specifically, subordinate stations only have time offsets for high/low (in minutes) and\n",
    "multipliers for high/low.\n",
    "\n",
    "Harmonic constituents for Seattle:\n",
    "https://tidesandcurrents.noaa.gov/harcon.html?unit=1&timezone=0&id=9447130&name=Seattle&state=WA\n",
    "https://tidesandcurrents.noaa.gov/mdapi/latest/webapi/stations/9447130.json?expand=harcon&units=english\n",
    "\n",
    "\n",
    "\n",
    "\n"
   ]
  },
  {
   "cell_type": "code",
   "execution_count": null,
   "metadata": {},
   "outputs": [],
   "source": []
  }
 ],
 "metadata": {
  "kernelspec": {
   "display_name": "Python [conda env:sail] *",
   "language": "python",
   "name": "conda-env-sail-py"
  },
  "language_info": {
   "codemirror_mode": {
    "name": "ipython",
    "version": 3
   },
   "file_extension": ".py",
   "mimetype": "text/x-python",
   "name": "python",
   "nbconvert_exporter": "python",
   "pygments_lexer": "ipython3",
   "version": "3.7.0"
  }
 },
 "nbformat": 4,
 "nbformat_minor": 2
}
