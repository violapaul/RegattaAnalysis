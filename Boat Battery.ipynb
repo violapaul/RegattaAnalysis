{
 "cells": [
  {
   "cell_type": "markdown",
   "metadata": {},
   "source": [
    "# Figuring out the battery on Peer Gynt\n",
    "\n",
    "Might have been crazy, but I bought 2 LiFePO4 Battle Born Batteries (BB).\n",
    "\n",
    "![foobar](Data/Images/Boat_Battery/bb_specs.png)\n",
    "\n"
   ]
  },
  {
   "cell_type": "markdown",
   "metadata": {},
   "source": [
    "## Current System: AGM\n",
    "\n",
    "The current AGM batteries were suffering,  since I did not keep them charged to 100% (because of fears on electrical stray current).  As a result their capacity was down by at least half (due to sulfation???).\n",
    "\n",
    "The main issue I saw was that when I sailed over night, the batteries were running out of juice way too fast (current draw should be 4 AMPs).\n",
    "\n",
    "I tested this by building a load which I hooked up to one of the batteries (Batt #1, though they should be identical) and drained until the battery voltage dropped.  This is the test recommended by LifeLine\n",
    "\n",
    "![foobar](Data/Images/Boat_Battery/lifeline_discharge.png)\n",
    "\n",
    "The test showed that battery capacity was about 50% (and they are only 3 years old).  Even if they were running well, you are not supposed to discharge a lead acid below 50% (approx).  \n",
    "\n",
    "An additional problem is that the alternator was not charging the battery particularly rapidly.  So the batteries would discharge fast, and the engine would slowly charge them back up.  To keep the instruments on I needed to charge frequently, so the engine would end up running quite a bit.  And on a sailboat that is super annoying."
   ]
  },
  {
   "cell_type": "markdown",
   "metadata": {},
   "source": [
    "### What determines the alternator charge rate??\n",
    "\n",
    "As I understand, the alternator is voltage regulated.  Its pretty cool actually.  The pulley spins the alternator, but  current is only generated if the coils are \"energized\".  Rather than fixed magnets (which would always generate current) the alternator has electromagnets powered by coils.  No current in the coils, no magnets.  No magnets, no generated current.  More coil current, more generated current.\n",
    "\n",
    "The voltage regulator powers the coils until the voltage comes up to target (14.4 Volts or so).  If the RPM is too low (at idle for example) the output voltage may never quite make it to target and less current is generated.  \n",
    "\n",
    "The alternator current, or battery charge rate, is determined by:\n",
    "\n",
    "1) The RPM of the motor and therefore the alternator (usually 2x motor speed).\n",
    "2) The alternator max current capacity. \n",
    "3) The battery charge acceptance rate at 14.4 Volts.\n",
    "\n",
    "Additionally there are guidelines on charge rate for lead acid batteries, typically 0.1 or 0.2C (for a 100 amp hour battery that is 10 or 20 amps).  The alternator does not know this!\n",
    "\n",
    "If your boat uses 4 Amps, and you can charge at 20 amps, then the engine needs to run for 1 hour for every 5 that you are on battery.  Not fun.  For some reason we typically saw 20 Amps when charging the battery.  Not entirely sure why.\n",
    "\n",
    "The L4 batteries can charge at 0.5C, or 50 amps. This means you are running the engine 1 hour for every 12 on the water.  With two batteries you can charge at 100 amps.   And you are running the alternator 1 hour for every 24 on batteries!  This requires a 100 amp alternator (which may not be acceptable for the our small motor).\n"
   ]
  },
  {
   "cell_type": "markdown",
   "metadata": {},
   "source": [
    "## LiFePO4\n",
    "\n",
    "These are \"safe\" Lithium batteries that have the ability to be deep discharged.  In theory they are not great at starting (with a max current of 200Amps for 30 seconds, and \"1/2 Second Surge for Loads Over 200 Amps\").\n",
    "\n",
    "I went down to the boat to measure the starting current using a current meter set to peak current mode. \n",
    "\n",
    "![foobar](Data/Images/Boat_Battery/starting_current.png)\n",
    "\n",
    "This shows 265 peak amps.  Another measurement showed 282.  The starter motor is listed as 1KW (which is 100 Amps).  \n",
    "\n",
    "In theory, the current required **might** work with a single BB. The current draw on the L4 battery when starting is not easy to predict.  It could be more if the engine is very cold.  It could be less, because the meter is \"peak picking\" and may have show the very highest current which may not have lasted very long.\n",
    "\n",
    "I think it is definitely worth testing.\n",
    "\n",
    "Of course a pair of BB should definitely work (unless there is something strange going on).\n",
    "\n",
    "In order to generally reduce the weight on the boat, I would to love to use a single battery.  The current battery is 64lbs (times 2).  The BB battery is 31 lbs, which could save 90lbs in the back of the boat.\n",
    "\n"
   ]
  },
  {
   "cell_type": "markdown",
   "metadata": {},
   "source": [
    "## Getting away with one battery\n",
    "\n",
    "The Yanmar starter is 1 kilowatt, about 100 amps.  The reason we see higher currents is that on startup motors draw much higher currents (our data shows 280 amps).  The devil is in the details.  The current draw for a motor is a noisy mess. Typically max currents are measured over a time period.  Perhaps 1 millesecond in our tester.  The BB battery has a automatic shutoff to protect from overcurrent.  The battery is good foor 200 amps for 30 seconds, and more for a \"surge\".  The Battery Management System (aka BMS, built into the battery) handles the cutout.  It is unclear what exactly is being measured and what the limits are.\n",
    "\n",
    "### Starting Experiment\n",
    "\n",
    "On March 4th I went tried to start the engine off of the BB L4 battery.  \n",
    "\n",
    "- Remove battery 1\n",
    "- Use jumper cables from BB to batter 1 cables.\n",
    "\n",
    "It would not start.  I did not have my peak current meter with me.\n",
    "\n",
    "I did grab a video of the volt meter during the test.  Voltage is 13.3 (resting for the BB).  During the start the voltage drops rapidly,  the engine turns over 1-2 times, and then stops.  Battery returns to 8.7 volts.  This must be some signal that the BMS shut things down.  Looking at the video you can see that the voltage seems to get down to 11.7V.\n",
    "\n",
    "**It is critical to note that the engine has been very hard to start recently.  This started after our return from San Diego and after routine maintenance from Auxiliary Engine.**  In fact on the water on March 5th the engine requires 3 times to start and ten 10+ seconds of cranking.\n",
    "\n",
    "### What are the other options??\n",
    "\n",
    "I watched this interesting [video](https://youtu.be/FpB9nG4TDHo?t=722) showing that a V6 small truck could be started with a bank of super caps (link jumps to a failed attempt with cheap caps, followed by a success with quality caps).  In theory a low current battery could be used to charge the caps, and then the caps could be used to start the engine.\n",
    "\n",
    "Cap review: A Farad is a measure of Coulomb vs. Voltage.  Coulombs (C) is Amps times seconds.  If you add a Coulomb of electrons, how much will the voltage increase??  A 62F cap requires 824 C to get to 13.3 V.  The caps could provide 400C or 400 amps for a second an still remain at 7V (this is likely what is needed to start that truck).\n",
    "\n",
    "One possibility it to add in a super capacitor in parallel with the battery.  In theory the cap would provide the surge current during start,  and it would need to do little else the rest of the time. \n",
    "\n",
    "One option is here from LICAP [62F Super Cap](https://assets.website-files.com/5dc8ead8c19d433eb7097216/608629f85e69913a232d6cce_LICAP_SM0062-018-P_nDatasheet_041720.pdf)\n",
    "\n",
    "![foobar](Data/Images/Boat_Battery/licap_supercap.png)\n",
    "\n",
    "During starting the starter calls for current.  If the voltage on the battery were to drop from 13.3V to 11.7V the cap would supply 1.6 * 62 = 99.2 C (or 200 Amps for half a second).  In theory the battery could also generate 200 Amps, for a total of 400 Amps for half a second.   \n",
    "\n",
    "- The cap should float at the battery charge.\n"
   ]
  },
  {
   "cell_type": "markdown",
   "metadata": {},
   "source": [
    "### A backup plan:  A jump Battery.\n",
    "\n",
    "During this testing, I was able to verify that a single dead battery would not start the engine.  But I was able to start the engine with a cool portable battery.\n",
    "\n",
    "It is quite surprising that this small battery can start a diesel engine.\n",
    "\n",
    "![foobar](Data/Images/Boat_Battery/jump_battery.png)"
   ]
  },
  {
   "cell_type": "code",
   "execution_count": 1,
   "metadata": {},
   "outputs": [],
   "source": [
    "import math"
   ]
  },
  {
   "cell_type": "code",
   "execution_count": 2,
   "metadata": {},
   "outputs": [
    {
     "ename": "NameError",
     "evalue": "name 'sadjflaksdfj' is not defined",
     "output_type": "error",
     "traceback": [
      "\u001b[0;31m---------------------------------------------------------------------------\u001b[0m",
      "\u001b[0;31mNameError\u001b[0m                                 Traceback (most recent call last)",
      "\u001b[0;32m<ipython-input-2-9698a5c49b3f>\u001b[0m in \u001b[0;36m<module>\u001b[0;34m\u001b[0m\n\u001b[0;32m----> 1\u001b[0;31m \u001b[0msadjflaksdfj\u001b[0m\u001b[0;34m\u001b[0m\u001b[0m\n\u001b[0m",
      "\u001b[0;31mNameError\u001b[0m: name 'sadjflaksdfj' is not defined"
     ]
    }
   ],
   "source": [
    "instrument_current_draw = 4 # amps\n",
    "\n",
    "starting_current_draw = "
   ]
  },
  {
   "cell_type": "markdown",
   "metadata": {},
   "source": [
    "# References\n",
    "\n",
    "Nice list of diode properties:  https://www.allaboutcircuits.com/textbook/semiconductors/chpt-3/diode-ratings/\n",
    "\n"
   ]
  },
  {
   "cell_type": "markdown",
   "metadata": {},
   "source": [
    "# Battery Test"
   ]
  },
  {
   "cell_type": "code",
   "execution_count": 3,
   "metadata": {},
   "outputs": [
    {
     "name": "stdout",
     "output_type": "stream",
     "text": [
      "4875\n"
     ]
    }
   ],
   "source": [
    "# rating for the GPL-31T \n",
    "amps = 25 # rate\n",
    "minutes = 195 \n",
    "prod = amps * minutes\n",
    "print(amps*minutes)"
   ]
  },
  {
   "cell_type": "code",
   "execution_count": 11,
   "metadata": {},
   "outputs": [
    {
     "name": "stdout",
     "output_type": "stream",
     "text": [
      "4387.5 216.66666666666666\n",
      "173.33333333333334\n",
      "108.33333333333333\n"
     ]
    }
   ],
   "source": [
    "amps = 22.5  # true rate with load\n",
    "minutes = 195\n",
    "print(amps*minutes, prod/amps)\n",
    "print(0.8 * prod/amps)  # equivalent minutes for 80%\n",
    "print(0.5 * prod/amps)  # equivalent minutes for 80%"
   ]
  },
  {
   "cell_type": "code",
   "execution_count": 8,
   "metadata": {},
   "outputs": [
    {
     "data": {
      "text/plain": [
       "15.600000000000001"
      ]
     },
     "execution_count": 8,
     "metadata": {},
     "output_type": "execute_result"
    }
   ],
   "source": [
    "2.6 * 6"
   ]
  },
  {
   "cell_type": "code",
   "execution_count": 10,
   "metadata": {},
   "outputs": [
    {
     "data": {
      "text/plain": [
       "3330.0"
      ]
     },
     "execution_count": 10,
     "metadata": {},
     "output_type": "execute_result"
    }
   ],
   "source": [
    "148 * 22.5"
   ]
  },
  {
   "cell_type": "code",
   "execution_count": null,
   "metadata": {},
   "outputs": [],
   "source": []
  }
 ],
 "metadata": {
  "kernelspec": {
   "display_name": "Python [conda env:sail] *",
   "language": "python",
   "name": "conda-env-sail-py"
  },
  "language_info": {
   "codemirror_mode": {
    "name": "ipython",
    "version": 3
   },
   "file_extension": ".py",
   "mimetype": "text/x-python",
   "name": "python",
   "nbconvert_exporter": "python",
   "pygments_lexer": "ipython3",
   "version": "3.7.0"
  }
 },
 "nbformat": 4,
 "nbformat_minor": 2
}
