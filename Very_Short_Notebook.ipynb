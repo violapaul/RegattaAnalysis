{
 "cells": [
  {
   "cell_type": "markdown",
   "metadata": {},
   "source": [
    "# Very Short Notebook"
   ]
  },
  {
   "cell_type": "code",
   "execution_count": 2,
   "metadata": {},
   "outputs": [
    {
     "data": {
      "text/plain": [
       "{'name': 'foobar.ipynb',\n",
       " 'path': 'foobar.ipynb',\n",
       " 'last_modified': datetime.datetime(2020, 4, 22, 15, 41, 5, 150538, tzinfo=<notebook._tz.tzUTC object at 0x7feef02292b0>),\n",
       " 'created': datetime.datetime(2020, 4, 22, 15, 41, 5, 150538, tzinfo=<notebook._tz.tzUTC object at 0x7feef02292b0>),\n",
       " 'content': None,\n",
       " 'format': None,\n",
       " 'mimetype': None,\n",
       " 'size': 72,\n",
       " 'writable': True,\n",
       " 'type': 'notebook'}"
      ]
     },
     "execution_count": 2,
     "metadata": {},
     "output_type": "execute_result"
    }
   ],
   "source": [
    "import sys\n",
    "import math"
   ]
  },
  {
   "cell_type": "code",
   "execution_count": 4,
   "metadata": {},
   "outputs": [
    {
     "data": {
      "text/plain": [
       "module"
      ]
     },
     "execution_count": 4,
     "metadata": {},
     "output_type": "execute_result"
    }
   ],
   "source": [
    "# notebook\n",
    "\n",
    "math.sin(2.0)"
   ]
  },
  {
   "cell_type": "code",
   "execution_count": null,
   "metadata": {},
   "outputs": [],
   "source": [
    "def example_function(arg):\n",
    "    print(arg)"
   ]
  }
 ],
 "metadata": {
  "kernelspec": {
   "display_name": "Python [conda env:sail] *",
   "language": "python",
   "name": "conda-env-sail-py"
  },
  "language_info": {
   "codemirror_mode": {
    "name": "ipython",
    "version": 3
   },
   "file_extension": ".py",
   "mimetype": "text/x-python",
   "name": "python",
   "nbconvert_exporter": "python",
   "pygments_lexer": "ipython3",
   "version": "3.7.0"
  }
 },
 "nbformat": 4,
 "nbformat_minor": 2
}
