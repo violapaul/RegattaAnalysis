{
 "cells": [
  {
   "cell_type": "markdown",
   "metadata": {},
   "source": [
    "# Literate Notebook\n",
    "\n",
    "## Motivation\n",
    "\n",
    "I've found the most productive way to write and document code is by building it up in a Jupyter notebook.  I use the notebook to define the problem, the inputs and outputs, include examples, references and links, and then build up to a final set of solutions.  Along the way I end up writing functions which are similar or identical to a set functions to be collected into a module (the python name for libraries of functions).  Modules are critical because they can be imported and used in other notebooks/modules.  \n",
    "\n",
    "Unfortunately, the notebook and the module can get out of sync.  I'll find a bug in the module as I am using it, and then go fix it.  Or I'll add a bit of functionality.  Gradually the notebook becomes stale.  Most of the info in the notebook is still true, but it doesn't reflect the final details accurately.\n",
    "\n",
    "It would be way better if the **Notebook was the Module** and the **Module was the Notebook**.  \n",
    "\n",
    "The code in this notebook/module provides a means to unify these concepts."
   ]
  },
  {
   "cell_type": "markdown",
   "metadata": {},
   "source": [
    "## Background (Optional)\n",
    "\n",
    "This notion is clearly related to *Literate Programming* (LP).  Links:\n",
    "\n",
    "- [Knuth's Paper](http://www.literateprogramming.com/knuthweb.pdf), great but not that accessible.\n",
    "- [Literate Programming Site](http://www.literateprogramming.com/), oddly structured (what is this site trying to achieve?).\n",
    "- [Wikipedia Page](https://en.wikipedia.org/wiki/Literate_programming), always a good place to start.\n",
    "- [A Gentle Introduction](http://axiom-developer.org/axiom-website/litprog.html), one of the best I have read.\n",
    "- [Physics Based Rendering](http://www.pbr-book.org/3ed-2018/contents.html), a great book which uses LP to teach and define a complete working system.\n",
    "\n",
    "The \"literate programming\" idea is that code is a byproduct of the thinking and teaching process.  So rather than write a program with embedded comments, you write a teaching document in Knuth's WEB language which includes the code, using markup that allows you to later tease the two pieces apart into the code (Pascal in his example) and the document (TeX).  The final code itself is not meant for anyone to read... it is only intended for the compiler.  The surprising part for me is that the code is never really presented in one piece, though it could be.  In the WEB document it is sliced and diced into pieces and only assembled at the end (more on this below).  (BTW, Knuth is brilliant and always right, but I am not a huge fan of the look and feel of the languages he developed.  WEB was never widely used, and of course \"web\" now means something entirely different. TeX, while universal and awesome, has a programming language which kind of sucks.  The algorithms in his books were written in MIX, another painful choice. Python does not suck and neither do Jupyter notebooks.)\n",
    "\n",
    "Jupyter notebooks are sort of similar to \"literate programs\" containing code and documentation side by side.  As they are currently used, notebooks are both better and worse.  They are better because a notebook can include examples,  running code, and code outputs.  A Notebook is not just a dead document.  Notebooks are worse because they are typically not used to create code libraries which are reusable by other modules and other users (this is the ultimate goal of most programming).\n",
    "\n",
    "I am arguing for a **Literate Notebook**, a WYSIWYG document including running examples and results, which can be post-processed to create the module which can then be used by other python programs and notebooks.  \n",
    "\n",
    "Doesn't it already work that way?  Unfortunately not.  The simplest (boring) reason is that a notebook is a JSON file and not a python module (the notebook extension is `.ipynb`).  This JSON includes markdown cells (like this one) and code cells.  At a minimum we would need to pull the code out of the ipynb file and put it into a `.py` file.  But a typical notebook also includes non-essential code: references to example data, or partially written functionality, or attempts to decompose the problem (like any textbook would).  This code is not welcome in our streamlined and efficient module (though it is super useful when understanding the module).\n",
    "\n",
    "Note, jupyter notebooks already include a scheme for converting ipynb files into \"python\" (`juypyter nbconvert`).  But the conversion is hamfisted and the code not terribly reusable.  And it includes all the code, both the ephemera and the reusable functions.\n",
    "\n",
    "My proposal is quite simple (all good ideas are simple, though not all simple ideas are good): add a few tags, harmlessly included in comments, which flag cells as \"notebook only\" or \"destined for the module\".  Using some discipline in the notebook authoring process, it is possible to extract the module from the literate notebook, and they magically stay in sync forever.  The fact that the notebook is straightforward JSON helps tremendously.\n",
    "\n",
    "Why doesn't everyone do this?  Honestly not sure. The missing piece is actually quite simple.\n",
    "\n",
    "Note, the extracted module, while it can stand on its own and will have embedded comments, should not be read/edited directly: *read and understand the code in the literate notebook.*  Over time it is possible folks will edit the module, disconnecting the module from the literate notebook.  At that point the literate notebook loses most of its value, and should be deleted.\n",
    "\n",
    "\n",
    "### Literate Programming is a bit different\n",
    "\n",
    "To be honest, LP can be mysterious, and WEB examples seem sort of complex. Central to WEB is a feature missing from the trivially simple Literate Notebook defined above:  *single functions can be decomposed into pieces and described independently.*  The final \"tangling\" process, takes these pieces and weaves them back together into a single syntactically valid function.  The  Pascal example from Knuth's original paper is a single tangled mess (hence the name tangle for the process of constructing the source code).  Below is the resulting Pascal (its unfair to judge this code too closely, since later tools do a much better job):\n",
    "\n",
    "    {1:}{2:}PROGRAM PRINTPRIMES(OUTPUT);CONST M=1000;{5:}RR=50;CC=4;WW=10;{:5}{19:}ORDMAX=30;{:19}VAR{4:}P:ARRAY[1..M]OF INTEGER;{:4}{7:}PAGENUMBER:INTEGER;PAGEOFFSET:INTEGER;ROWOFFSET:INTEGER;C:0..CC;{:7}{12:}J:INTEGER;K:0..M;{:12}{15:}JPRIME:BOOLEAN;{:15}{17:}ORD:2..ORDMAX;SQUARE:INTEGER;{:17}{23:}N:2..ORDMAX;{:23}{24:}MULT:ARRAY[2..ORDMAX]OF INTEGER;{:24}BEGIN{3:}{11:}{16:}J:=1;K:=1;P[1]:=2;{:16}{18:}ORD:=2;SQUARE:=9;{:18};WHILE K<M DO BEGIN{14:}REPEAT J:=J+2;{20:}IF J=SQUARE THEN BEGIN ORD:=ORD+1;{21:}SQUARE:=P[ORD]*P[ORD];{:21}{25:}MULT[ORD-1]:=J;{:25};END{:20};{22:}N:=2;JPRIME:=TRUE;WHILE(N<ORD)AND JPRIME DO BEGIN{26:}WHILE MULT[N]<J DO MULT[N]:=MULT[N]+P[N]+P[N];IF MULT[N]=J THEN JPRIME:=FALSE{:26};N:=N+1;END{:22};UNTIL JPRIME{:14};K:=K+1;P[K]:=J;END{:11};{8:}BEGIN PAGENUMBER:=1;PAGEOFFSET:=1;WHILE PAGEOFFSET<=M DO BEGIN{9:}BEGIN WRITE(’The First ’);WRITE(M:1);WRITE(’ Prime Numbers --- Page ’);WRITE(PAGENUMBER:1);WRITELN;WRITELN;FOR ROWOFFSET:=PAGEOFFSET TO PAGEOFFSET+RR-1DO{10:}BEGIN FOR C:=0 TO CC-1 DO IF ROWOFFSET+C*RR<=M THEN WRITE(P[ROWOFFSET+C*RR]:WW);WRITELN;END{:10};PAGE;END{:9};PAGENUMBER:=PAGENUMBER+1;PAGEOFFSET:=PAGEOFFSET+RR*CC;END;END{:8}{:3};END.{:2}{:1}\n",
    "\n",
    "I think the message is clear, don't look at the code.  If you did **have** to look at it the particular the bit between the pair of comments `{7:} ... {:7}` is *defined* and described in section 7 of the WEB document.\n",
    "\n",
    "    {7:} PAGENUMBER:INTEGER;PAGEOFFSET:INTEGER;ROWOFFSET:INTEGER;C:0..CC;{:7}\n",
    "\n",
    "Perhaps the simplest way to think of LP using WEB: \n",
    "\n",
    "- Code can be broken down into the tiny pieces.\n",
    "- Rather than forcing the programmer to squeeze comments into the code itself, the comments **and the code** are defined and discussed elsewhere.\n",
    "- The code can be defined and documented in any order.\n",
    "- Everything is assembled at the end.  The document looks great.  The actual final code is left a bit mysterious.\n",
    "\n",
    "I guess I write programs in a different way...  by writing programs. How would debugging of this final code work? Or how can I be sure this sliced and diced program even worked at all?  I often need to run code to see what I've missed.  Corner cases.  Missing steps.  One of the greatest things about programming is that the compiler/interpreter will find your bugs by failing to do what you intended.  I am not sure how that feedback loop works with WEB. And modern IDE's find a lot of issues very early (like missing references and syntax errors). \n",
    "\n",
    "I am proposing something simpler and less powerful, but more closely associated with typical programming.  Every modern programming language allows you to break computations into pieces through the use of functions.  Each function is syntactically separate and can be described independently.  I imagine Literate Notebooks using functions to decompose and document functionality.  I also believe you can build up functionality through partial or even failed attempts.  These can all go in the notebook and provide a scheme for understanding the final set of functions.\n",
    "\n",
    "I am pretty sure I would **not** like programming in WEB.  Expressions interact in complex ways, mostly through variable definitions that are shared in the various namespaces of the function.  It can be further complex if the syntax of the language does not simply allow you to string together subpieces.  Using LP and WEB is likely easier in a language like lisp; since the syntax is trivial, the pieces can be easily glued back together.  Its even easier in a functional subset of lisp (like [Clojure](https://clojure.org/)), because then the subpieces only interact through the values of the expressions (no side effects).  LP for Clojure might work for me. \n",
    "\n",
    "I honestly got lost as Knuth wrote a Pascal function in WEB.  It was super hard to just see the whole structure of the function, and I was worried that it would not just glue back together in a meaningful way.  I kept asking, *can't I just see the function*?\n",
    "\n",
    "**How would I fix it?**  Might as well jot this down.  \n",
    "\n",
    "- Have the final function available at all times, nicely formatted (not tangled!).  Perhaps in a window at the side.\n",
    "- Allow access to the associated documentation by hovering over the code.\n",
    "- One click to run on test data.\n",
    "- Allow editing of the code directly, and this updates the WEB doc.\n",
    "\n",
    "I think this could work.  But I am not sure I'd love it.  I still write code by writing code."
   ]
  },
  {
   "cell_type": "markdown",
   "metadata": {},
   "source": [
    "## Code Overview\n",
    "\n",
    "The \"cell\" structure of Jupyter notebook's is central. Each cell is either code or markdown.  We will go further to define sub-types of code cells: notebook and module. Code cells containing the a comment `#notebook` are intended for the notebook only, and are created to explain concepts or to provide examples.  The remaining code cells are \"module cells\" and contain code destined for the module.  These are the final functions that will be used to implement the required functionality and solve the problem at hand.  \n",
    "\n",
    "Markdown cells, which are there for exposition are not included in the module.  The exception is the first markdown cell, which is copied directly to the module documentation string.\n",
    "\n",
    "I hate to get all meta, but this notebook is an example of a literate notebook.  \n",
    "\n",
    "## Caveats\n",
    "\n",
    "### Make sure the module code is complete\n",
    "\n",
    "If you define a function or constant in a *notebook* cell, you **cannot** use it in a *module* cell.  It will all work just fine in the literate notebook, but when the notebook cells are stripped away, the module will not have access to those symbols.  Unfortunately there is nothing about the Jupyter notebook which will prevent this.  It can lead to bugs that will only appear when the module is loaded and run. This can also lead to some duplication, where the same values are defined both in the notebook and module cells.\n",
    "\n",
    "This is tricky to fix... it can only be avoided by being careful.\n",
    "\n",
    "### Jupyter is not the greatest development environment\n",
    "\n",
    "Jupyter is designed for lightweight programming, and it is not an IDE. Debugging in Jupyter is suspect. Tracing around in large codebases is hard.  There is no highlighting of syntax errors. Global edit/replace and refactor are marginal. Some programming is just best done in an industrial grade IDE (I use emacs with lots of python add-ins).  \n",
    "\n",
    "To support this, literate notebooks will provide a *round-trip* functionality as well.  This extracts all of the cells into a single python file which can be loaded into any editor.  This text file can then be executed, edited, or modified in flexible ways.  When you're done you convert it back to a literate notebook where it can resume its role a beautiful web enabled WYSIWYG experience.\n",
    "\n",
    "### How do you handle references to modules\n",
    "\n",
    "There is a desire to reuse and share functions in modules.  That is the point of defining literate notebooks, right?  ... so others can reuse the code.  But how does that work into the \"teaching document\" idea.  \n",
    "\n",
    "Do you link to the related notebook?  Can you link directly to a portion of a notebook?  Just skip it?\n",
    "\n",
    "In an IDE I would hover and see the doc (or browse) to the definition.\n",
    "\n",
    "### Can Jupyter Help?\n",
    "\n",
    "- Color the different types of code cells?\n",
    "- Can some cells by collapsed by default?  \n",
    "\n",
    "### TODO\n",
    "\n",
    "Some of the cells below are for testing functionality.  These could go in the module, or stay only in the notebook, or go somewhere else.  \n",
    "\n",
    "Figure out if there is a role for testing cells (collapsed by default?)."
   ]
  },
  {
   "cell_type": "code",
   "execution_count": 1,
   "metadata": {},
   "outputs": [],
   "source": [
    "# Load some modules\n",
    "import os               # For paths and files.\n",
    "import json             # Notebook files are in JSON\n",
    "import itertools as it  # Useful tools for manipulating streams\n",
    "import re               # regular expressions\n",
    "import logging          # logging of errors, warnings, etc."
   ]
  },
  {
   "cell_type": "code",
   "execution_count": 2,
   "metadata": {},
   "outputs": [],
   "source": [
    "# Some basic routines for reading and writing from files.\n",
    "def read_notebook(notebook_path):\n",
    "    \"Read the JSON encoding of the notebook ipynb file.\"\n",
    "    with open(notebook_path, 'r') as fs:\n",
    "        nb = json.load(fs)\n",
    "    return nb\n",
    "\n",
    "def save_notebook(notebook, notebook_path):\n",
    "    \"Write the JSON encoding of the notebook to an ipynb file.\"\n",
    "    with open(notebook_path, 'w') as fs:\n",
    "        json.dump(notebook, fs)\n",
    "\n",
    "def read_lines(path):\n",
    "    \"Read the lines of a file specified by PATH.\"\n",
    "    with open(path, 'r') as fs:\n",
    "        for line in fs:\n",
    "            yield line\n",
    "\n",
    "def save_lines(file_path, lines):\n",
    "    \"Save lines to file.\"\n",
    "    with open(file_path, 'w') as fs:\n",
    "        for line in lines:\n",
    "            fs.write(line)"
   ]
  },
  {
   "cell_type": "code",
   "execution_count": 3,
   "metadata": {},
   "outputs": [],
   "source": [
    "# notebook - first example of a \"notebook\" cell.  \n",
    "\n",
    "# Some notebook specific libraries for display\n",
    "from nbutils import display_markdown, display\n",
    "import copy\n",
    "\n",
    "# Setup logging at debug, so we can see what is going on.\n",
    "logging.basicConfig(level=logging.DEBUG, format='%(asctime)s|%(levelname)s|%(funcName)s| %(message)s')"
   ]
  },
  {
   "cell_type": "code",
   "execution_count": 4,
   "metadata": {},
   "outputs": [
    {
     "data": {
      "text/markdown": [
       "### Notebooks have a few top level keys."
      ],
      "text/plain": [
       "<IPython.core.display.Markdown object>"
      ]
     },
     "metadata": {},
     "output_type": "display_data"
    },
    {
     "data": {
      "text/markdown": [
       "['cells', 'metadata', 'nbformat', 'nbformat_minor']"
      ],
      "text/plain": [
       "<IPython.core.display.Markdown object>"
      ]
     },
     "metadata": {},
     "output_type": "display_data"
    },
    {
     "data": {
      "text/markdown": [
       "The code/markdown is in `cells`. Metadata in the other keys."
      ],
      "text/plain": [
       "<IPython.core.display.Markdown object>"
      ]
     },
     "metadata": {},
     "output_type": "display_data"
    },
    {
     "data": {
      "text/markdown": [
       "### Example metadata."
      ],
      "text/plain": [
       "<IPython.core.display.Markdown object>"
      ]
     },
     "metadata": {},
     "output_type": "display_data"
    },
    {
     "data": {
      "text/plain": [
       "{'metadata': {'kernelspec': {'display_name': 'Python [conda env:sail] *',\n",
       "   'language': 'python',\n",
       "   'name': 'conda-env-sail-py'},\n",
       "  'language_info': {'codemirror_mode': {'name': 'ipython', 'version': 3},\n",
       "   'file_extension': '.py',\n",
       "   'mimetype': 'text/x-python',\n",
       "   'name': 'python',\n",
       "   'nbconvert_exporter': 'python',\n",
       "   'pygments_lexer': 'ipython3',\n",
       "   'version': '3.7.0'}},\n",
       " 'nbformat': 4,\n",
       " 'nbformat_minor': 2}"
      ]
     },
     "metadata": {},
     "output_type": "display_data"
    },
    {
     "data": {
      "text/markdown": [
       "To be honest, this info is mysterious.  We'll simply copy it when we implement round trip."
      ],
      "text/plain": [
       "<IPython.core.display.Markdown object>"
      ]
     },
     "metadata": {},
     "output_type": "display_data"
    }
   ],
   "source": [
    "# notebook - start drilling down into the structure of notebooks.\n",
    "\n",
    "# A notebook to analyze.\n",
    "nb_file = \"Literate_Notebook.ipynb\"      # going all meta here,  this is the current notebook!\n",
    "# nb_file = \"Very_Short_Notebook.ipynb\"  # a shorter notebook, handy for testing.\n",
    "\n",
    "# Load the JSON of the notebook\n",
    "nb_json = read_notebook(nb_file)\n",
    "    \n",
    "display_markdown(\"### Notebooks have a few top level keys.\")\n",
    "display_markdown(repr(list(nb_json.keys())))\n",
    "\n",
    "display_markdown(\"The code/markdown is in `cells`. Metadata in the other keys.\")\n",
    "\n",
    "display_markdown(\"### Example metadata.\")\n",
    "\n",
    "# Display all the keys but 'cells'\n",
    "display({k:v for k, v in nb_json.items() if k != 'cells'})\n",
    "\n",
    "display_markdown(\"To be honest, this info is mysterious.  We'll simply copy it when we implement round trip.\")"
   ]
  },
  {
   "cell_type": "code",
   "execution_count": 5,
   "metadata": {},
   "outputs": [
    {
     "data": {
      "text/markdown": [
       "### Cell information"
      ],
      "text/plain": [
       "<IPython.core.display.Markdown object>"
      ]
     },
     "metadata": {},
     "output_type": "display_data"
    },
    {
     "data": {
      "text/markdown": [
       "Here is the contents of one cell.  Note, picking a smaller cell."
      ],
      "text/plain": [
       "<IPython.core.display.Markdown object>"
      ]
     },
     "metadata": {},
     "output_type": "display_data"
    },
    {
     "data": {
      "text/plain": [
       "{'cell_type': 'code',\n",
       " 'execution_count': 1,\n",
       " 'metadata': {},\n",
       " 'outputs': [],\n",
       " 'source': ['# Load some modules\\n',\n",
       "  'import os               # For paths and files.\\n',\n",
       "  'import json             # Notebook files are in JSON\\n',\n",
       "  'import itertools as it  # Useful tools for manipulating streams\\n',\n",
       "  'import re               # regular expressions\\n',\n",
       "  'import logging          # logging of errors, warnings, etc.']}"
      ]
     },
     "metadata": {},
     "output_type": "display_data"
    },
    {
     "data": {
      "text/markdown": [
       "### Data from cells: first 3 lines."
      ],
      "text/plain": [
       "<IPython.core.display.Markdown object>"
      ]
     },
     "metadata": {},
     "output_type": "display_data"
    },
    {
     "name": "stdout",
     "output_type": "stream",
     "text": [
      "################## Cell #0: markdown ###########################################\n",
      "# Literate Notebook\n",
      "\n",
      "## Motivation\n",
      "\n",
      "...\n",
      "################## Cell #1: markdown ###########################################\n",
      "## Background (Optional)\n",
      "\n",
      "This notion is clearly related to *Literate Programming* (LP).  Links:\n",
      "\n",
      "...\n",
      "################## Cell #2: markdown ###########################################\n",
      "## Code Overview\n",
      "\n",
      "The \"cell\" structure of Jupyter notebook's is central. Each cell is either code or markdown.  We will go further to define sub-types of code cells: notebook and module. Code cells containing the a comment `#notebook` are intended for the notebook only, and are created to explain concepts or to provide examples.  The remaining code cells are \"module cells\" and contain code destined for the module.  These are the final functions that will be used to implement the required functionality and solve the problem at hand.  \n",
      "\n",
      "...\n",
      "################## Cell #3: code ###############################################\n",
      "# Load some modules\n",
      "import os               # For paths and files.\n",
      "import json             # Notebook files are in JSON\n",
      "\n",
      "...\n",
      "################## Cell #4: code ###############################################\n",
      "# Some basic routines for reading and writing from files.\n",
      "def read_notebook(notebook_path):\n",
      "    \"Read the JSON encoding of the notebook ipynb file.\"\n",
      "\n",
      "...\n"
     ]
    }
   ],
   "source": [
    "# notebook - cells are where the action is\n",
    "\n",
    "display_markdown(\"### Cell information\")\n",
    "\n",
    "display_markdown(\"Here is the contents of one cell.  Note, picking a smaller cell.\")\n",
    "\n",
    "display(nb_json['cells'][3])\n",
    "\n",
    "# Let's print out the content of the cells as well...  just the first 3 lines.  \n",
    "\n",
    "display_markdown(\"### Data from cells: first 3 lines.\")\n",
    "\n",
    "line_length = 80\n",
    "# print the first 3 lines of the first 5 cells\n",
    "for num, cell in zip(it.count(), nb_json['cells'][:5]):\n",
    "    ctype = cell['cell_type']\n",
    "    source_code = cell['source']\n",
    "    print(f\"################## Cell #{num}: {ctype} {'#' * line_length}\"[:line_length])\n",
    "    print(\"\".join(source_code[:3]))\n",
    "    print(\"...\")"
   ]
  },
  {
   "cell_type": "code",
   "execution_count": 6,
   "metadata": {},
   "outputs": [],
   "source": [
    "# Code will process each cell in turn, handling markdown and code cells differents.\n",
    "\n",
    "# Code cells are further differentiated by their cell tag.  For now the list of valid cell tags is:\n",
    "VALID_CELL_TAGS = {'notebook', 'module', 'test'}\n",
    "\n",
    "# The cell tag is the first word on the first line.\n",
    "REGEX_CELL_TAG = re.compile(r\"#\\s*([a-zA-Z]+).*\", re.IGNORECASE)\n",
    "\n",
    "def extract_cell_tag(line):\n",
    "    \"Return the cell tag on this line.\"\n",
    "    m = REGEX_CELL_TAG.match(line)\n",
    "    if m is not None:\n",
    "        tag = m.group(1).casefold()\n",
    "        if tag in VALID_CELL_TAGS:\n",
    "            return tag\n",
    "    # default is module\n",
    "    return 'module'\n"
   ]
  },
  {
   "cell_type": "code",
   "execution_count": 7,
   "metadata": {},
   "outputs": [
    {
     "name": "stderr",
     "output_type": "stream",
     "text": [
      "2020-04-23 17:04:58,954|DEBUG|test_regex_cell_tag| True = notebook == notebook, '# notebook \\n'\n",
      "2020-04-23 17:04:58,955|DEBUG|test_regex_cell_tag| True = notebook == notebook, '# NoteBook - an example of an \\n'\n",
      "2020-04-23 17:04:58,955|DEBUG|test_regex_cell_tag| True = notebook == notebook, '#notebook'\n",
      "2020-04-23 17:04:58,956|DEBUG|test_regex_cell_tag| True = test == test, '#  Test  '\n",
      "2020-04-23 17:04:58,956|DEBUG|test_regex_cell_tag| True = module == module, 'foobar'\n",
      "2020-04-23 17:04:58,957|DEBUG|test_regex_cell_tag| True = module == module, '# baz'\n"
     ]
    }
   ],
   "source": [
    "# notebook - this notebook cell defines the correct behavior and tests\n",
    "\n",
    "def test_regex_cell_tag():\n",
    "    \"Test some options for notebook tags.  Check that they work as expected.\"\n",
    "    possibilities = [\n",
    "        ['notebook', \"# notebook \\n\"],\n",
    "        ['notebook', \"# NoteBook - an example of an \\n\"],\n",
    "        ['notebook', \"#notebook\"],\n",
    "        ['test',     \"#  Test  \"],\n",
    "        ['module',   \"foobar\"],\n",
    "        ['module',   \"# baz\"]\n",
    "    ]    \n",
    "    test = True\n",
    "    for tag, p in possibilities:\n",
    "        ctag = extract_cell_tag(p)\n",
    "        m = tag == ctag\n",
    "        logging.debug(f\"{m} = {tag} == {ctag}, {repr(p)}\")\n",
    "        test = test and m\n",
    "    assert test\n",
    "\n",
    "test_regex_cell_tag()"
   ]
  },
  {
   "cell_type": "code",
   "execution_count": 8,
   "metadata": {},
   "outputs": [],
   "source": [
    "# Recall there are two goals \n",
    "#  1) create a python module from a literate notebook. \n",
    "#  2) roundtrip from literate notebook to python and back.\n",
    "#\n",
    "# The two solutions will end up using many of the same pieces.\n",
    "#\n",
    "# Each cell will be rendered as a \"chunk\", and the chunks are delimeted by special comment lines.\n",
    "#\n",
    "# These functions are used to flag the beginning and end of chunks.\n",
    "\n",
    "# Match a cell marker comment\n",
    "REGEX_CHUNK_MARKER = re.compile(r'#### Cell #(\\d+) Type: (\\w+) #+$')\n",
    "\n",
    "def make_chunk_marker(num, cell_type, line_length=80):\n",
    "    \"A magic line which flags the beginning of a chunk.\"\n",
    "    return f\"#### Cell #{num} Type: {cell_type} {'#' * line_length}\"[:line_length]\n",
    "\n",
    "def is_chunk_marker(line):\n",
    "    \"Returns the cell number and cell type IFF the line is a chunk marker.\"\n",
    "    m = REGEX_CHUNK_MARKER.match(line)\n",
    "    if m is not None:\n",
    "        return int(m.group(1)), m.group(2)\n",
    "    return None\n",
    "\n",
    "def make_chunk_separator(num, cell_type):\n",
    "    \"Surround the marker by blank lines.\"\n",
    "    # Add empty lines for readability\n",
    "    return [\"\\n\", make_chunk_marker(num, cell_type) + \"\\n\", \"\"]\n",
    "\n",
    "# Helpers to construct the list of text lines destined for the python file.\n",
    "def add_line(results, line):\n",
    "    \"Add a single line to the current list of lines stored in RESULT.  By convention a single line is not newline terminated, so we will add one.\"\n",
    "    results.append(line + \"\\n\")\n",
    "\n",
    "\n",
    "def add_lines(results, list_of_lines):\n",
    "    \"Add multiple lines to the current list of lines stored in RESULT. By convention all lines but the last are newline terminated\"\n",
    "    if len(list_of_lines) > 0:\n",
    "        results.extend(list_of_lines[:-1])\n",
    "        results.append(list_of_lines[-1] + \"\\n\")\n"
   ]
  },
  {
   "cell_type": "code",
   "execution_count": 9,
   "metadata": {},
   "outputs": [
    {
     "name": "stderr",
     "output_type": "stream",
     "text": [
      "2020-04-23 17:04:58,974|DEBUG|test_chunk_marker| (0, 'module'), #### Cell #0 Type: module ######################################################\n",
      "2020-04-23 17:04:58,974|DEBUG|test_chunk_marker| (0, 'notebook'), #### Cell #0 Type: notebook ####################################################\n",
      "2020-04-23 17:04:58,975|DEBUG|test_chunk_marker| (0, 'test'), #### Cell #0 Type: test ########################################################\n",
      "2020-04-23 17:04:58,975|DEBUG|test_chunk_marker| (1, 'module'), #### Cell #1 Type: module ######################################################\n",
      "2020-04-23 17:04:58,976|DEBUG|test_chunk_marker| (1, 'notebook'), #### Cell #1 Type: notebook ####################################################\n",
      "2020-04-23 17:04:58,976|DEBUG|test_chunk_marker| (1, 'test'), #### Cell #1 Type: test ########################################################\n",
      "2020-04-23 17:04:58,977|DEBUG|test_chunk_marker| (2, 'module'), #### Cell #2 Type: module ######################################################\n",
      "2020-04-23 17:04:58,977|DEBUG|test_chunk_marker| (2, 'notebook'), #### Cell #2 Type: notebook ####################################################\n",
      "2020-04-23 17:04:58,977|DEBUG|test_chunk_marker| (2, 'test'), #### Cell #2 Type: test ########################################################\n",
      "2020-04-23 17:04:58,978|DEBUG|test_chunk_marker| (3, 'module'), #### Cell #3 Type: module ######################################################\n",
      "2020-04-23 17:04:58,978|DEBUG|test_chunk_marker| (3, 'notebook'), #### Cell #3 Type: notebook ####################################################\n",
      "2020-04-23 17:04:58,979|DEBUG|test_chunk_marker| (3, 'test'), #### Cell #3 Type: test ########################################################\n",
      "2020-04-23 17:04:58,979|DEBUG|test_chunk_marker| (4, 'module'), #### Cell #4 Type: module ######################################################\n",
      "2020-04-23 17:04:58,980|DEBUG|test_chunk_marker| (4, 'notebook'), #### Cell #4 Type: notebook ####################################################\n",
      "2020-04-23 17:04:58,980|DEBUG|test_chunk_marker| (4, 'test'), #### Cell #4 Type: test ########################################################\n"
     ]
    },
    {
     "data": {
      "text/plain": [
       "True"
      ]
     },
     "execution_count": 9,
     "metadata": {},
     "output_type": "execute_result"
    }
   ],
   "source": [
    "# notebook - test that the cell markers \n",
    "\n",
    "def test_chunk_marker():\n",
    "    data = it.product(range(5), ['module', 'notebook', 'test'])\n",
    "    test = True\n",
    "    for num, ctype in data:\n",
    "        line = make_chunk_marker(num, ctype)\n",
    "        m = is_chunk_marker(line)\n",
    "        logging.debug(f\"{m}, {line}\")\n",
    "        if m is not None:\n",
    "            lnum, ltype = m\n",
    "            test = test and (num == lnum) and (ctype == ltype)\n",
    "        else:\n",
    "            test = False\n",
    "    return test\n",
    "\n",
    "test_chunk_marker()\n"
   ]
  },
  {
   "cell_type": "code",
   "execution_count": 10,
   "metadata": {},
   "outputs": [],
   "source": [
    "def notebook_to_module(notebook_json, use_chunks=True):\n",
    "    \"Extract the **module** code from the notebook JSON datastructure.  Returns a list of lines.\"\n",
    "    res = []\n",
    "\n",
    "    for num, cell in zip(it.count(), notebook_json['cells']):\n",
    "        if num == 0 and cell['cell_type'] == 'markdown':\n",
    "            add_line(res, \"\")\n",
    "            # first cell is markdown, create the documentation string for the module\n",
    "            add_line(res, '\"\"\"')\n",
    "            add_lines(res, cell['source'])\n",
    "            add_line(res, '\"\"\"')\n",
    "        elif cell['cell_type'] == 'code':\n",
    "            # Otherwise the code \n",
    "            source = cell.get('source', [])\n",
    "            if len(source) > 0 and extract_cell_tag(source[0]) == 'module':\n",
    "                if use_chunks:\n",
    "                    add_lines(res, make_chunk_separator(num, 'module'))\n",
    "                add_lines(res, cell['source'])\n",
    "    return res"
   ]
  },
  {
   "cell_type": "code",
   "execution_count": 11,
   "metadata": {},
   "outputs": [
    {
     "name": "stdout",
     "output_type": "stream",
     "text": [
      "\n",
      "\"\"\"\n",
      "# Literate Notebook\n",
      "\n",
      "## Motivation\n",
      "\n",
      "I've found the most productive way to write and document code is by building it up in a Jupyter notebook.  I use the notebook to define the problem, the inputs and outputs, include examples, references and links, and then build up to a final set of solutions.  Along the way I end up writing functions which are similar or identical to a set functions to be collected into a module (the python name for libraries of functions).  Modules are critical because they can be imported and used in other notebooks/modules.  \n",
      "\n",
      "Unfortunately, the notebook and the module can get out of sync.  I'll find a bug in the module as I am using it, and then go fix it.  Or I'll add a bit of functionality.  Gradually the notebook becomes stale.  Most of the info in the notebook is still true, but it doesn't reflect the final details accurately.\n",
      "\n",
      "It would be way better if the **Notebook was the Module** and the **Module was the Notebook**.  \n",
      "\n",
      "The code in this notebook/module provides a means to unify these concepts.\n",
      "\"\"\"\n",
      "\n",
      "#### Cell #3 Type: module ######################################################\n",
      "\n",
      "# Load some modules\n",
      "import os               # For paths and files.\n",
      "import json             # Notebook files are in JSON\n",
      "import itertools as it  # Useful tools for manipulating streams\n",
      "import re               # regular expressions\n",
      "import logging          # logging of errors, warnings, etc.\n",
      "\n",
      "#### Cell #4 Type: module ######################################################\n",
      "\n",
      "# Some basic routines for reading and writing from files.\n",
      "def read_notebook(notebook_path):\n",
      "    \"Read the JSON encoding of the notebook ipynb file.\"\n",
      "    with open(notebook_path, 'r') as fs:\n",
      "        nb = json.load(fs)\n",
      "    return nb\n",
      "\n",
      "def save_notebook(notebook, notebook_path):\n",
      "    \"Write the JSON encoding of the notebook to an ipynb file.\"\n",
      "    with open(notebook_path, 'w') as fs:\n",
      "        json.dump(notebook, fs)\n",
      "\n",
      "def read_lines(path):\n",
      "    \"Read the lines of a file specified by PATH.\"\n",
      "    with open(path, 'r') as fs:\n",
      "        for line in fs:\n",
      "            yield line\n",
      "\n",
      "def save_lines(file_path, lines):\n",
      "    \"Save lines to file.\"\n",
      "    with open(file_path, 'w') as fs:\n",
      "        for line in lines:\n",
      "            fs.write(line)\n",
      "\n",
      "#### Cell #8 Type: module ######################################################\n",
      "\n",
      "# Code will process each cell in turn, handling markdown and code cells differents.\n",
      "\n",
      "# Code cells are further divided by their cell tag.\n",
      "\n",
      "# For now the list of valid cell tags is:\n",
      "VALID_CELL_TAGS = {'notebook', 'module', 'test'}\n",
      "\n",
      "# The cell tag is the first word on the first line.\n",
      "REGEX_CELL_TAG = re.compile(r\"#\\s*([a-zA-Z]+).*\", re.IGNORECASE)\n",
      "\n",
      "def extract_cell_tag(line):\n",
      "    \"Return the cell tag on this line.\"\n",
      "    m = REGEX_CELL_TAG.match(line)\n",
      "    if m is not None:\n",
      "        tag = m.group(1).casefold()\n",
      "        if tag in VALID_CELL_TAGS:\n",
      "            return tag\n",
      "    # default is module\n",
      "    return 'module'\n",
      "\n",
      "\n",
      "#### Cell #10 Type: module #####################################################\n",
      "\n",
      "# Recall there are two goals \n",
      "#  1) create a python module from a literate notebook. \n",
      "#  2) roundtrip from literate notebook to python and back.\n",
      "#\n",
      "# The two solutions will end up using many of the same pieces.\n",
      "#\n",
      "# Each cell will be rendered as a \"chunk\", and the chunks are delimeted by special comment lines.\n",
      "#\n",
      "# These functions are used to flag the beginning and end of chunks.\n",
      "\n",
      "# Match a cell marker comment\n",
      "REGEX_CHUNK_MARKER = re.compile(r'#### Cell #(\\d+) Type: (\\w+) #+$')\n",
      "\n",
      "def make_chunk_marker(num, cell_type, line_length=80):\n",
      "    \"A magic line which flags the beginning of a chunk.\"\n",
      "    return f\"#### Cell #{num} Type: {cell_type} {'#' * line_length}\"[:line_length]\n",
      "\n",
      "def is_chunk_marker(line):\n",
      "    \"Returns the cell number and cell type IFF the line is a chunk marker.\"\n",
      "    m = REGEX_CHUNK_MARKER.match(line)\n",
      "    if m is not None:\n",
      "        return int(m.group(1)), m.group(2)\n",
      "    return None\n",
      "\n",
      "def make_chunk_separator(num, cell_type):\n",
      "    \"Surround the marker by blank lines.\"\n"
     ]
    }
   ],
   "source": [
    "# notebook - let's try this out\n",
    "\n",
    "# Read a notebook.\n",
    "nb_json = read_notebook(nb_file)\n",
    "# Generate the output lines.\n",
    "module_lines = notebook_to_module(nb_json, use_chunks=True)\n",
    "\n",
    "# Print the first 100 lines\n",
    "for line in module_lines[:100]:\n",
    "    print(line, end=\"\")\n",
    "    \n",
    "# The result should be valid python, and suitable for use as a python module."
   ]
  },
  {
   "cell_type": "code",
   "execution_count": 12,
   "metadata": {},
   "outputs": [],
   "source": [
    "# notebook - let's examine the results of this synthesis\n",
    "\n",
    "# Save the result to a temporary python file.\n",
    "save_lines(\"test_module.py\", module_lines)\n",
    "        \n",
    "# I would recommend opening this file in your favorite IDE!"
   ]
  },
  {
   "cell_type": "code",
   "execution_count": 13,
   "metadata": {},
   "outputs": [],
   "source": [
    "# Working toward roundtrip.\n",
    "\n",
    "# Unlike \"compile to module\", roundtrip will attempt to store the contents of all cells. \n",
    "# To encode markdown regions we'll use python comments.\n",
    "\n",
    "COMMENT_TEXT = \"#: \"\n",
    "\n",
    "def comment_line(line):\n",
    "    \"Turn a line into a Python comment line.\"\n",
    "    return COMMENT_TEXT + line\n",
    "\n",
    "REGEX_WHITESPACE_ONLY = re.compile(\"^\\s*$\")\n",
    "\n",
    "def uncomment_line(line):\n",
    "    \"Take a commented line and remove the comment.\"\n",
    "    if REGEX_WHITESPACE_ONLY.match(line):\n",
    "        return line\n",
    "    if line.startswith(COMMENT_TEXT):\n",
    "        return line[len(COMMENT_TEXT):]\n",
    "    else:\n",
    "        raise Exception(f\"Attempt to uncomment a line which is not commented.\")"
   ]
  },
  {
   "cell_type": "code",
   "execution_count": 14,
   "metadata": {},
   "outputs": [
    {
     "name": "stderr",
     "output_type": "stream",
     "text": [
      "2020-04-23 17:04:59,011|DEBUG|test_commenting| Testing cell 0.\n",
      "2020-04-23 17:04:59,012|DEBUG|test_commenting| Testing cell 1.\n",
      "2020-04-23 17:04:59,013|DEBUG|test_commenting| Testing cell 2.\n",
      "2020-04-23 17:04:59,013|DEBUG|test_commenting| Testing cell 3.\n",
      "2020-04-23 17:04:59,013|DEBUG|test_commenting| Testing cell 4.\n",
      "2020-04-23 17:04:59,014|DEBUG|test_commenting| Testing cell 5.\n",
      "2020-04-23 17:04:59,014|DEBUG|test_commenting| Testing cell 6.\n",
      "2020-04-23 17:04:59,015|DEBUG|test_commenting| Testing cell 7.\n",
      "2020-04-23 17:04:59,015|DEBUG|test_commenting| Testing cell 8.\n",
      "2020-04-23 17:04:59,016|DEBUG|test_commenting| Testing cell 9.\n",
      "2020-04-23 17:04:59,016|DEBUG|test_commenting| Testing cell 10.\n",
      "2020-04-23 17:04:59,017|DEBUG|test_commenting| Testing cell 11.\n",
      "2020-04-23 17:04:59,017|DEBUG|test_commenting| Testing cell 12.\n",
      "2020-04-23 17:04:59,018|DEBUG|test_commenting| Testing cell 13.\n",
      "2020-04-23 17:04:59,018|DEBUG|test_commenting| Testing cell 14.\n",
      "2020-04-23 17:04:59,018|DEBUG|test_commenting| Testing cell 15.\n",
      "2020-04-23 17:04:59,019|DEBUG|test_commenting| Testing cell 16.\n",
      "2020-04-23 17:04:59,019|DEBUG|test_commenting| Testing cell 17.\n",
      "2020-04-23 17:04:59,020|DEBUG|test_commenting| Testing cell 18.\n",
      "2020-04-23 17:04:59,020|DEBUG|test_commenting| Testing cell 19.\n",
      "2020-04-23 17:04:59,020|DEBUG|test_commenting| Testing cell 20.\n",
      "2020-04-23 17:04:59,021|DEBUG|test_commenting| Testing cell 21.\n",
      "2020-04-23 17:04:59,021|DEBUG|test_commenting| Testing cell 22.\n",
      "2020-04-23 17:04:59,022|DEBUG|test_commenting| Testing cell 23.\n",
      "2020-04-23 17:04:59,022|DEBUG|test_commenting| Testing cell 24.\n",
      "2020-04-23 17:04:59,022|DEBUG|test_commenting| Testing cell 25.\n",
      "2020-04-23 17:04:59,022|INFO|test_commenting| Tested 561 lines.\n"
     ]
    },
    {
     "name": "stdout",
     "output_type": "stream",
     "text": [
      "#: This line should get commented!\n"
     ]
    },
    {
     "data": {
      "text/plain": [
       "True"
      ]
     },
     "execution_count": 14,
     "metadata": {},
     "output_type": "execute_result"
    }
   ],
   "source": [
    "# notebook - test commenting and uncommenting on the current notebook!\n",
    "\n",
    "print(comment_line(\"This line should get commented!\"))\n",
    "\n",
    "def test_commenting(notebook_json):\n",
    "    \"For evey line in every cell in NOTEBOOK_JSON, first comment and then uncomment.\"\n",
    "    test = True\n",
    "    count = 0\n",
    "    for num, cell in zip(it.count(), notebook_json['cells']):\n",
    "        logging.debug(f\"Testing cell {num}.\")\n",
    "        source = cell.get('source', [])\n",
    "        for line in source:\n",
    "            count += 1\n",
    "            cline = comment_line(line)\n",
    "            uline = uncomment_line(cline)\n",
    "            match = (line == uline)\n",
    "            if not match:\n",
    "                logging.warning(f\"Lines do not match\")\n",
    "                logging.warning(line)\n",
    "                logging.warning(uline)\n",
    "                test = False\n",
    "    logging.info(f\"Tested {count} lines.\")\n",
    "    return test\n",
    "\n",
    "test_commenting(nb_json)"
   ]
  },
  {
   "cell_type": "code",
   "execution_count": 15,
   "metadata": {},
   "outputs": [],
   "source": [
    "# Serialize a notebook into a roundtrip-able python file.\n",
    "\n",
    "# In the interest of being more like a \"literate program\", let's present the top-level function first.\n",
    "def notebook_to_roundtrip(notebook_json):\n",
    "    \"Create a roundtrip-able python script from the JSON notebook structure.\"\n",
    "    res = []\n",
    "    for num, cell in zip(it.count(), notebook_json['cells']):\n",
    "        ctype = cell['cell_type']\n",
    "        if ctype == 'markdown':\n",
    "            add_markdown_chunk(res, num, cell)\n",
    "        elif ctype == 'code':\n",
    "            add_code_chunk(res, num, cell)\n",
    "        else:\n",
    "            loggging.warning(f\"Found a ctype = {ctype} which is not supported.\")\n",
    "    # Finally add a chunk that includes notebook metadata\n",
    "    add_metadata_chunk(res, num+1, notebook_json)\n",
    "    # Finish the last chunk\n",
    "    add_lines(res, make_chunk_separator(num+2, 'finish'))\n",
    "    return res\n",
    "\n",
    "def add_markdown_chunk(res, num, cell):\n",
    "    \"Add a markdown chunk to the list of lines in RES.\"\n",
    "    source = cell.get('source', [])\n",
    "    add_lines(res, make_chunk_separator(num, 'markdown'))\n",
    "    # markdown text must be commented.\n",
    "    add_lines(res, [comment_line(l) for l in source])\n",
    "\n",
    "def add_code_chunk(res, num, cell):\n",
    "    \"Add a code chunk to the list of lines in RES.\"\n",
    "    # Otherwise the code \n",
    "    source = cell.get('source', [])\n",
    "    if len(source) == 0:\n",
    "        # empty cell is by default a module\n",
    "        ctag = 'module'\n",
    "    else:\n",
    "        ctag = extract_cell_tag(source[0])\n",
    "    add_lines(res, make_chunk_separator(num, ctag))\n",
    "    add_lines(res, source)\n",
    "\n",
    "def notebook_metadata(notebook_json):\n",
    "    \"Extract metadata portion of the the notebook and serialize as JSON.\"\n",
    "    # metadata is everything but the cells\n",
    "    metadata = copy.copy(notebook_json)\n",
    "    del metadata['cells']\n",
    "    # Format so it is readable and editable.  \n",
    "    jstring = json.dumps(metadata, indent=2)\n",
    "    return jstring.splitlines(True)\n",
    "\n",
    "def add_metadata_chunk(res, num, notebook_json):\n",
    "    add_lines(res, make_chunk_separator(num, 'metadata'))\n",
    "    json_of_metadata = notebook_metadata(notebook_json)\n",
    "    # Comment each line of JSON\n",
    "    add_lines(res, [comment_line(l) for l in json_of_metadata])"
   ]
  },
  {
   "cell_type": "code",
   "execution_count": 16,
   "metadata": {},
   "outputs": [
    {
     "data": {
      "text/plain": [
       "'\\n'"
      ]
     },
     "metadata": {},
     "output_type": "display_data"
    },
    {
     "data": {
      "text/plain": [
       "'#### Cell #0 Type: markdown ####################################################\\n'"
      ]
     },
     "metadata": {},
     "output_type": "display_data"
    },
    {
     "data": {
      "text/plain": [
       "'\\n'"
      ]
     },
     "metadata": {},
     "output_type": "display_data"
    },
    {
     "data": {
      "text/plain": [
       "'#: # Literate Notebook\\n'"
      ]
     },
     "metadata": {},
     "output_type": "display_data"
    },
    {
     "data": {
      "text/plain": [
       "'#: \\n'"
      ]
     },
     "metadata": {},
     "output_type": "display_data"
    },
    {
     "data": {
      "text/plain": [
       "'#: ## Motivation\\n'"
      ]
     },
     "metadata": {},
     "output_type": "display_data"
    },
    {
     "data": {
      "text/plain": [
       "'#: \\n'"
      ]
     },
     "metadata": {},
     "output_type": "display_data"
    },
    {
     "data": {
      "text/plain": [
       "\"#: I've found the most productive way to write and document code is by building it up in a Jupyter notebook.  I use the notebook to define the problem, the inputs and outputs, include examples, references and links, and then build up to a final set of solutions.  Along the way I end up writing functions which are similar or identical to a set functions to be collected into a module (the python name for libraries of functions).  Modules are critical because they can be imported and used in other notebooks/modules.  \\n\""
      ]
     },
     "metadata": {},
     "output_type": "display_data"
    },
    {
     "data": {
      "text/plain": [
       "'#: \\n'"
      ]
     },
     "metadata": {},
     "output_type": "display_data"
    },
    {
     "data": {
      "text/plain": [
       "\"#: Unfortunately, the notebook and the module can get out of sync.  I'll find a bug in the module as I am using it, and then go fix it.  Or I'll add a bit of functionality.  Gradually the notebook becomes stale.  Most of the info in the notebook is still true, but it doesn't reflect the final details accurately.\\n\""
      ]
     },
     "metadata": {},
     "output_type": "display_data"
    },
    {
     "data": {
      "text/plain": [
       "'#: \\n'"
      ]
     },
     "metadata": {},
     "output_type": "display_data"
    },
    {
     "data": {
      "text/plain": [
       "'#: It would be way better if the **Notebook was the Module** and the **Module was the Notebook**.  \\n'"
      ]
     },
     "metadata": {},
     "output_type": "display_data"
    },
    {
     "data": {
      "text/plain": [
       "'#: \\n'"
      ]
     },
     "metadata": {},
     "output_type": "display_data"
    },
    {
     "data": {
      "text/plain": [
       "'#: The code in this notebook/module provides a means to unify these concepts.\\n'"
      ]
     },
     "metadata": {},
     "output_type": "display_data"
    },
    {
     "data": {
      "text/plain": [
       "'\\n'"
      ]
     },
     "metadata": {},
     "output_type": "display_data"
    },
    {
     "data": {
      "text/plain": [
       "'#### Cell #1 Type: markdown ####################################################\\n'"
      ]
     },
     "metadata": {},
     "output_type": "display_data"
    },
    {
     "data": {
      "text/plain": [
       "'\\n'"
      ]
     },
     "metadata": {},
     "output_type": "display_data"
    },
    {
     "data": {
      "text/plain": [
       "'#: ## Background (Optional)\\n'"
      ]
     },
     "metadata": {},
     "output_type": "display_data"
    },
    {
     "data": {
      "text/plain": [
       "'#: \\n'"
      ]
     },
     "metadata": {},
     "output_type": "display_data"
    },
    {
     "data": {
      "text/plain": [
       "'#: This notion is clearly related to *Literate Programming* (LP).  Links:\\n'"
      ]
     },
     "metadata": {},
     "output_type": "display_data"
    },
    {
     "data": {
      "text/plain": [
       "'#: \\n'"
      ]
     },
     "metadata": {},
     "output_type": "display_data"
    },
    {
     "data": {
      "text/plain": [
       "\"#: - [Knuth's Paper](http://www.literateprogramming.com/knuthweb.pdf), great but not that accessible.\\n\""
      ]
     },
     "metadata": {},
     "output_type": "display_data"
    },
    {
     "data": {
      "text/plain": [
       "'#: - [Literate Programming Site](http://www.literateprogramming.com/), oddly structured (what is this site trying to achieve?).\\n'"
      ]
     },
     "metadata": {},
     "output_type": "display_data"
    },
    {
     "data": {
      "text/plain": [
       "'#: - [Wikipedia Page](https://en.wikipedia.org/wiki/Literate_programming), always a good place to start.\\n'"
      ]
     },
     "metadata": {},
     "output_type": "display_data"
    },
    {
     "data": {
      "text/plain": [
       "'#: - [A Gentle Introduction](http://axiom-developer.org/axiom-website/litprog.html), one of the best I have read.\\n'"
      ]
     },
     "metadata": {},
     "output_type": "display_data"
    },
    {
     "data": {
      "text/plain": [
       "'#: - [Physics Based Rendering](http://www.pbr-book.org/3ed-2018/contents.html), a great book which uses LP to teach and define a complete working system.\\n'"
      ]
     },
     "metadata": {},
     "output_type": "display_data"
    },
    {
     "data": {
      "text/plain": [
       "'#: \\n'"
      ]
     },
     "metadata": {},
     "output_type": "display_data"
    },
    {
     "data": {
      "text/plain": [
       "'#: The \"literate programming\" idea is that code is a byproduct of the thinking and teaching process.  So rather than write a program with embedded comments, you write a teaching document in Knuth\\'s WEB language which includes the code, using markup that allows you to later tease the two pieces apart into the code (Pascal in his example) and the document (TeX).  The final code itself is not meant for anyone to read... it is only intended for the compiler.  The surprising part for me is that the code is never really presented in one piece, though it could be.  In the WEB document it is sliced and diced into pieces and only assembled at the end (more on this below).  (BTW, Knuth is brilliant and always right, but I am not a huge fan of the look and feel of the languages he developed.  WEB was never widely used, and of course \"web\" now means something entirely different. TeX, while universal and awesome, has a programming language which kind of sucks.  The algorithms in his books were written in MIX, another painful choice. Python does not suck and neither do Jupyter notebooks.)\\n'"
      ]
     },
     "metadata": {},
     "output_type": "display_data"
    },
    {
     "data": {
      "text/plain": [
       "'#: \\n'"
      ]
     },
     "metadata": {},
     "output_type": "display_data"
    },
    {
     "data": {
      "text/plain": [
       "'#: Jupyter notebooks are sort of similar to \"literate programs\" containing code and documentation side by side.  As they are currently used, notebooks are both better and worse.  They are better because a notebook can include examples,  running code, and code outputs.  A Notebook is not just a dead document.  Notebooks are worse because they are typically not used to create code libraries which are reusable by other modules and other users (this is the ultimate goal of most programming).\\n'"
      ]
     },
     "metadata": {},
     "output_type": "display_data"
    },
    {
     "data": {
      "text/plain": [
       "'#: \\n'"
      ]
     },
     "metadata": {},
     "output_type": "display_data"
    },
    {
     "data": {
      "text/plain": [
       "'#: I am arguing for a **Literate Notebook**, a WYSIWYG document including running examples and results, which can be post-processed to create the module which can then be used by other python programs and notebooks.  \\n'"
      ]
     },
     "metadata": {},
     "output_type": "display_data"
    },
    {
     "data": {
      "text/plain": [
       "'#: \\n'"
      ]
     },
     "metadata": {},
     "output_type": "display_data"
    },
    {
     "data": {
      "text/plain": [
       "\"#: Doesn't it already work that way?  Unfortunately not.  The simplest (boring) reason is that a notebook is a JSON file and not a python module (the notebook extension is `.ipynb`).  This JSON includes markdown cells (like this one) and code cells.  At a minimum we would need to pull the code out of the ipynb file and put it into a `.py` file.  But a typical notebook also includes non-essential code: references to example data, or partially written functionality, or attempts to decompose the problem (like any textbook would).  This code is not welcome in our streamlined and efficient module (though it is super useful when understanding the module).\\n\""
      ]
     },
     "metadata": {},
     "output_type": "display_data"
    },
    {
     "data": {
      "text/plain": [
       "'#: \\n'"
      ]
     },
     "metadata": {},
     "output_type": "display_data"
    },
    {
     "data": {
      "text/plain": [
       "'#: Note, jupyter notebooks already include a scheme for converting ipynb files into \"python\" (`juypyter nbconvert`).  But the conversion is hamfisted and the code not terribly reusable.  And it includes all the code, both the ephemera and the reusable functions.\\n'"
      ]
     },
     "metadata": {},
     "output_type": "display_data"
    },
    {
     "data": {
      "text/plain": [
       "'#: \\n'"
      ]
     },
     "metadata": {},
     "output_type": "display_data"
    },
    {
     "data": {
      "text/plain": [
       "'#: My proposal is quite simple (all good ideas are simple, though not all simple ideas are good): add a few tags, harmlessly included in comments, which flag cells as \"notebook only\" or \"destined for the module\".  Using some discipline in the notebook authoring process, it is possible to extract the module from the literate notebook, and they magically stay in sync forever.  The fact that the notebook is straightforward JSON helps tremendously.\\n'"
      ]
     },
     "metadata": {},
     "output_type": "display_data"
    },
    {
     "data": {
      "text/plain": [
       "'#: \\n'"
      ]
     },
     "metadata": {},
     "output_type": "display_data"
    },
    {
     "data": {
      "text/plain": [
       "\"#: Why doesn't everyone do this?  Honestly not sure. The missing piece is actually quite simple.\\n\""
      ]
     },
     "metadata": {},
     "output_type": "display_data"
    },
    {
     "data": {
      "text/plain": [
       "'#: \\n'"
      ]
     },
     "metadata": {},
     "output_type": "display_data"
    },
    {
     "data": {
      "text/plain": [
       "'#: Note, the extracted module, while it can stand on its own and will have embedded comments, should not be read/edited directly: *read and understand the code in the literate notebook.*  Over time it is possible folks will edit the module, disconnecting the module from the literate notebook.  At that point the literate notebook loses most of its value, and should be deleted.\\n'"
      ]
     },
     "metadata": {},
     "output_type": "display_data"
    },
    {
     "data": {
      "text/plain": [
       "'#: \\n'"
      ]
     },
     "metadata": {},
     "output_type": "display_data"
    },
    {
     "data": {
      "text/plain": [
       "'#: \\n'"
      ]
     },
     "metadata": {},
     "output_type": "display_data"
    },
    {
     "data": {
      "text/plain": [
       "'#: ### Literate Programming is a bit different\\n'"
      ]
     },
     "metadata": {},
     "output_type": "display_data"
    },
    {
     "data": {
      "text/plain": [
       "'#: \\n'"
      ]
     },
     "metadata": {},
     "output_type": "display_data"
    },
    {
     "data": {
      "text/plain": [
       "'#: To be honest, LP can be mysterious, and WEB examples seem sort of complex. Central to WEB is a feature missing from the trivially simple Literate Notebook defined above:  *single functions can be decomposed into pieces and described independently.*  The final \"tangling\" process, takes these pieces and weaves them back together into a single syntactically valid function.  The  Pascal example from Knuth\\'s original paper is a single tangled mess (hence the name tangle for the process of constructing the source code).  Below is the resulting Pascal (its unfair to judge this code too closely, since later tools do a much better job):\\n'"
      ]
     },
     "metadata": {},
     "output_type": "display_data"
    },
    {
     "data": {
      "text/plain": [
       "'#: \\n'"
      ]
     },
     "metadata": {},
     "output_type": "display_data"
    },
    {
     "data": {
      "text/plain": [
       "'#:     {1:}{2:}PROGRAM PRINTPRIMES(OUTPUT);CONST M=1000;{5:}RR=50;CC=4;WW=10;{:5}{19:}ORDMAX=30;{:19}VAR{4:}P:ARRAY[1..M]OF INTEGER;{:4}{7:}PAGENUMBER:INTEGER;PAGEOFFSET:INTEGER;ROWOFFSET:INTEGER;C:0..CC;{:7}{12:}J:INTEGER;K:0..M;{:12}{15:}JPRIME:BOOLEAN;{:15}{17:}ORD:2..ORDMAX;SQUARE:INTEGER;{:17}{23:}N:2..ORDMAX;{:23}{24:}MULT:ARRAY[2..ORDMAX]OF INTEGER;{:24}BEGIN{3:}{11:}{16:}J:=1;K:=1;P[1]:=2;{:16}{18:}ORD:=2;SQUARE:=9;{:18};WHILE K<M DO BEGIN{14:}REPEAT J:=J+2;{20:}IF J=SQUARE THEN BEGIN ORD:=ORD+1;{21:}SQUARE:=P[ORD]*P[ORD];{:21}{25:}MULT[ORD-1]:=J;{:25};END{:20};{22:}N:=2;JPRIME:=TRUE;WHILE(N<ORD)AND JPRIME DO BEGIN{26:}WHILE MULT[N]<J DO MULT[N]:=MULT[N]+P[N]+P[N];IF MULT[N]=J THEN JPRIME:=FALSE{:26};N:=N+1;END{:22};UNTIL JPRIME{:14};K:=K+1;P[K]:=J;END{:11};{8:}BEGIN PAGENUMBER:=1;PAGEOFFSET:=1;WHILE PAGEOFFSET<=M DO BEGIN{9:}BEGIN WRITE(’The First ’);WRITE(M:1);WRITE(’ Prime Numbers --- Page ’);WRITE(PAGENUMBER:1);WRITELN;WRITELN;FOR ROWOFFSET:=PAGEOFFSET TO PAGEOFFSET+RR-1DO{10:}BEGIN FOR C:=0 TO CC-1 DO IF ROWOFFSET+C*RR<=M THEN WRITE(P[ROWOFFSET+C*RR]:WW);WRITELN;END{:10};PAGE;END{:9};PAGENUMBER:=PAGENUMBER+1;PAGEOFFSET:=PAGEOFFSET+RR*CC;END;END{:8}{:3};END.{:2}{:1}\\n'"
      ]
     },
     "metadata": {},
     "output_type": "display_data"
    },
    {
     "data": {
      "text/plain": [
       "'#: \\n'"
      ]
     },
     "metadata": {},
     "output_type": "display_data"
    },
    {
     "data": {
      "text/plain": [
       "\"#: I think the message is clear, don't look at the code.  If you did **have** to look at it the particular the bit between the pair of comments `{7:} ... {:7}` is *defined* and described in section 7 of the WEB document.\\n\""
      ]
     },
     "metadata": {},
     "output_type": "display_data"
    },
    {
     "data": {
      "text/plain": [
       "'#: \\n'"
      ]
     },
     "metadata": {},
     "output_type": "display_data"
    },
    {
     "data": {
      "text/plain": [
       "'#:     {7:} PAGENUMBER:INTEGER;PAGEOFFSET:INTEGER;ROWOFFSET:INTEGER;C:0..CC;{:7}\\n'"
      ]
     },
     "metadata": {},
     "output_type": "display_data"
    },
    {
     "data": {
      "text/plain": [
       "'#: \\n'"
      ]
     },
     "metadata": {},
     "output_type": "display_data"
    },
    {
     "data": {
      "text/plain": [
       "'#: Perhaps the simplest way to think of LP using WEB: \\n'"
      ]
     },
     "metadata": {},
     "output_type": "display_data"
    },
    {
     "data": {
      "text/plain": [
       "'#: \\n'"
      ]
     },
     "metadata": {},
     "output_type": "display_data"
    },
    {
     "data": {
      "text/plain": [
       "'#: - Code can be broken down into the tiny pieces.\\n'"
      ]
     },
     "metadata": {},
     "output_type": "display_data"
    },
    {
     "data": {
      "text/plain": [
       "'#: - Rather than forcing the programmer to squeeze comments into the code itself, the comments **and the code** are defined and discussed elsewhere.\\n'"
      ]
     },
     "metadata": {},
     "output_type": "display_data"
    },
    {
     "data": {
      "text/plain": [
       "'#: - The code can be defined and documented in any order.\\n'"
      ]
     },
     "metadata": {},
     "output_type": "display_data"
    },
    {
     "data": {
      "text/plain": [
       "'#: - Everything is assembled at the end.  The document looks great.  The actual final code is left a bit mysterious.\\n'"
      ]
     },
     "metadata": {},
     "output_type": "display_data"
    },
    {
     "data": {
      "text/plain": [
       "'#: \\n'"
      ]
     },
     "metadata": {},
     "output_type": "display_data"
    },
    {
     "data": {
      "text/plain": [
       "\"#: I guess I write programs in a different way...  by writing programs. How would debugging of this final code work? Or how can I be sure this sliced and diced program even worked at all?  I often need to run code to see what I've missed.  Corner cases.  Missing steps.  One of the greatest things about programming is that the compiler/interpreter will find your bugs by failing to do what you intended.  I am not sure how that feedback loop works with WEB. And modern IDE's find a lot of issues very early (like missing references and syntax errors). \\n\""
      ]
     },
     "metadata": {},
     "output_type": "display_data"
    },
    {
     "data": {
      "text/plain": [
       "'#: \\n'"
      ]
     },
     "metadata": {},
     "output_type": "display_data"
    },
    {
     "data": {
      "text/plain": [
       "'#: I am proposing something simpler and less powerful, but more closely associated with typical programming.  Every modern programming language allows you to break computations into pieces through the use of functions.  Each function is syntactically separate and can be described independently.  I imagine Literate Notebooks using functions to decompose and document functionality.  I also believe you can build up functionality through partial or even failed attempts.  These can all go in the notebook and provide a scheme for understanding the final set of functions.\\n'"
      ]
     },
     "metadata": {},
     "output_type": "display_data"
    },
    {
     "data": {
      "text/plain": [
       "'#: \\n'"
      ]
     },
     "metadata": {},
     "output_type": "display_data"
    },
    {
     "data": {
      "text/plain": [
       "'#: I am pretty sure I would **not** like programming in WEB.  Expressions interact in complex ways, mostly through variable definitions that are shared in the various namespaces of the function.  It can be further complex if the syntax of the language does not simply allow you to string together subpieces.  Using LP and WEB is likely easier in a language like lisp; since the syntax is trivial, the pieces can be easily glued back together.  Its even easier in a functional subset of lisp (like [Clojure](https://clojure.org/)), because then the subpieces only interact through the values of the expressions (no side effects).  LP for Clojure might work for me. \\n'"
      ]
     },
     "metadata": {},
     "output_type": "display_data"
    },
    {
     "data": {
      "text/plain": [
       "'#: \\n'"
      ]
     },
     "metadata": {},
     "output_type": "display_data"
    },
    {
     "data": {
      "text/plain": [
       "\"#: I honestly got lost as Knuth wrote a Pascal function in WEB.  It was super hard to just see the whole structure of the function, and I was worried that it would not just glue back together in a meaningful way.  I kept asking, *can't I just see the function*?\\n\""
      ]
     },
     "metadata": {},
     "output_type": "display_data"
    },
    {
     "data": {
      "text/plain": [
       "'#: \\n'"
      ]
     },
     "metadata": {},
     "output_type": "display_data"
    },
    {
     "data": {
      "text/plain": [
       "'#: **How would I fix it?**  Might as well jot this down.  \\n'"
      ]
     },
     "metadata": {},
     "output_type": "display_data"
    },
    {
     "data": {
      "text/plain": [
       "'#: \\n'"
      ]
     },
     "metadata": {},
     "output_type": "display_data"
    },
    {
     "data": {
      "text/plain": [
       "'#: - Have the final function available at all times, nicely formatted (not tangled!).  Perhaps in a window at the side.\\n'"
      ]
     },
     "metadata": {},
     "output_type": "display_data"
    },
    {
     "data": {
      "text/plain": [
       "'#: - Allow access to the associated documentation by hovering over the code.\\n'"
      ]
     },
     "metadata": {},
     "output_type": "display_data"
    },
    {
     "data": {
      "text/plain": [
       "'#: - One click to run on test data.\\n'"
      ]
     },
     "metadata": {},
     "output_type": "display_data"
    },
    {
     "data": {
      "text/plain": [
       "'#: - Allow editing of the code directly, and this updates the WEB doc.\\n'"
      ]
     },
     "metadata": {},
     "output_type": "display_data"
    },
    {
     "data": {
      "text/plain": [
       "'#: \\n'"
      ]
     },
     "metadata": {},
     "output_type": "display_data"
    },
    {
     "data": {
      "text/plain": [
       "\"#: I think this could work.  But I am not sure I'd love it.  I still write code by writing code.\\n\""
      ]
     },
     "metadata": {},
     "output_type": "display_data"
    },
    {
     "data": {
      "text/plain": [
       "'\\n'"
      ]
     },
     "metadata": {},
     "output_type": "display_data"
    },
    {
     "data": {
      "text/plain": [
       "'#### Cell #2 Type: markdown ####################################################\\n'"
      ]
     },
     "metadata": {},
     "output_type": "display_data"
    },
    {
     "data": {
      "text/plain": [
       "'\\n'"
      ]
     },
     "metadata": {},
     "output_type": "display_data"
    },
    {
     "data": {
      "text/plain": [
       "'#: ## Code Overview\\n'"
      ]
     },
     "metadata": {},
     "output_type": "display_data"
    },
    {
     "data": {
      "text/plain": [
       "'#: \\n'"
      ]
     },
     "metadata": {},
     "output_type": "display_data"
    },
    {
     "data": {
      "text/plain": [
       "'#: The \"cell\" structure of Jupyter notebook\\'s is central. Each cell is either code or markdown.  We will go further to define sub-types of code cells: notebook and module. Code cells containing the a comment `#notebook` are intended for the notebook only, and are created to explain concepts or to provide examples.  The remaining code cells are \"module cells\" and contain code destined for the module.  These are the final functions that will be used to implement the required functionality and solve the problem at hand.  \\n'"
      ]
     },
     "metadata": {},
     "output_type": "display_data"
    },
    {
     "data": {
      "text/plain": [
       "'#: \\n'"
      ]
     },
     "metadata": {},
     "output_type": "display_data"
    },
    {
     "data": {
      "text/plain": [
       "'#: Markdown cells, which are there for exposition are not included in the module.  The exception is the first markdown cell, which is copied directly to the module documentation string.\\n'"
      ]
     },
     "metadata": {},
     "output_type": "display_data"
    },
    {
     "data": {
      "text/plain": [
       "'#: \\n'"
      ]
     },
     "metadata": {},
     "output_type": "display_data"
    },
    {
     "data": {
      "text/plain": [
       "'#: I hate to get all meta, but this notebook is an example of a literate notebook.  \\n'"
      ]
     },
     "metadata": {},
     "output_type": "display_data"
    },
    {
     "data": {
      "text/plain": [
       "'#: \\n'"
      ]
     },
     "metadata": {},
     "output_type": "display_data"
    },
    {
     "data": {
      "text/plain": [
       "'#: ## Caveats\\n'"
      ]
     },
     "metadata": {},
     "output_type": "display_data"
    },
    {
     "data": {
      "text/plain": [
       "'#: \\n'"
      ]
     },
     "metadata": {},
     "output_type": "display_data"
    },
    {
     "data": {
      "text/plain": [
       "'#: ### Make sure the module code is complete\\n'"
      ]
     },
     "metadata": {},
     "output_type": "display_data"
    },
    {
     "data": {
      "text/plain": [
       "'#: \\n'"
      ]
     },
     "metadata": {},
     "output_type": "display_data"
    },
    {
     "data": {
      "text/plain": [
       "'#: If you define a function or constant in a *notebook* cell, you **cannot** use it in a *module* cell.  It will all work just fine in the literate notebook, but when the notebook cells are stripped away, the module will not have access to those symbols.  Unfortunately there is nothing about the Jupyter notebook which will prevent this.  It can lead to bugs that will only appear when the module is loaded and run. This can also lead to some duplication, where the same values are defined both in the notebook and module cells.\\n'"
      ]
     },
     "metadata": {},
     "output_type": "display_data"
    },
    {
     "data": {
      "text/plain": [
       "'#: \\n'"
      ]
     },
     "metadata": {},
     "output_type": "display_data"
    },
    {
     "data": {
      "text/plain": [
       "'#: This is tricky to fix... it can only be avoided by being careful.\\n'"
      ]
     },
     "metadata": {},
     "output_type": "display_data"
    },
    {
     "data": {
      "text/plain": [
       "'#: \\n'"
      ]
     },
     "metadata": {},
     "output_type": "display_data"
    },
    {
     "data": {
      "text/plain": [
       "'#: ### Jupyter is not the greatest development environment\\n'"
      ]
     },
     "metadata": {},
     "output_type": "display_data"
    },
    {
     "data": {
      "text/plain": [
       "'#: \\n'"
      ]
     },
     "metadata": {},
     "output_type": "display_data"
    },
    {
     "data": {
      "text/plain": [
       "'#: Jupyter is designed for lightweight programming, and it is not an IDE. Debugging in Jupyter is suspect. Tracing around in large codebases is hard.  There is no highlighting of syntax errors. Global edit/replace and refactor are marginal. Some programming is just best done in an industrial grade IDE (I use emacs with lots of python add-ins).  \\n'"
      ]
     },
     "metadata": {},
     "output_type": "display_data"
    },
    {
     "data": {
      "text/plain": [
       "'#: \\n'"
      ]
     },
     "metadata": {},
     "output_type": "display_data"
    }
   ],
   "source": [
    "# notebook - Create a roundtrip python file.\n",
    "\n",
    "rt_lines = notebook_to_roundtrip(nb_json)\n",
    "\n",
    "# This is all the data in the notebook: module, notebook, markdown.\n",
    "for line in rt_lines[:100]:\n",
    "    display(line, end=\"\")"
   ]
  },
  {
   "cell_type": "code",
   "execution_count": 17,
   "metadata": {},
   "outputs": [],
   "source": [
    "# Code to read a rountrip notebook\n",
    "\n",
    "# All the code below relies on file_lines acting as an interator.  Iterators have state, and iterating over \n",
    "# them (with a for loop) has the side effect of consuming elements.  \n",
    "\n",
    "def notebook_from_roundtrip(file_lines):\n",
    "    \"Create a notebook datastructure from the content of a roundtrip-able python file.\"\n",
    "    notebook = {}\n",
    "    cells = []\n",
    "    for chunk in notebook_chunks(iter(file_lines)):\n",
    "        num, ctype, lines = chunk\n",
    "        if ctype in ['module', 'notebook', 'test', 'markdown']:\n",
    "            cells.append(create_jupyter_cell(ctype, lines))\n",
    "        elif ctype == 'metadata':\n",
    "            notebook = extract_metadata(lines)\n",
    "    notebook['cells'] = cells\n",
    "    return notebook\n",
    "\n",
    "def notebook_chunks(file_lines):\n",
    "    \"Iterator which yields chunks in file.\"\n",
    "    num, ctype = read_to_first_chunk(file_lines)\n",
    "    chunk_lines = []\n",
    "    for line in file_lines:\n",
    "        marker = is_chunk_marker(line)\n",
    "        if marker is not None:\n",
    "            # Found a marker, its the end of the previous chunk\n",
    "            logging.info(f\"Found {marker}\")\n",
    "            yield num, ctype, chunk_lines\n",
    "            # Start the next chunk\n",
    "            chunk_lines = []\n",
    "            num, ctype = marker\n",
    "        else:\n",
    "            chunk_lines.append(line)\n",
    "\n",
    "def read_to_first_chunk(file_lines):\n",
    "    \"Read to the first chunk marker and return number and type.\"\n",
    "    for line in file_lines:\n",
    "        marker = is_chunk_marker(line)\n",
    "        if marker is not None:\n",
    "            # Found a marker, extract a new chunk\n",
    "            logging.info(f\"Found first marker: {marker}\")        \n",
    "            return marker\n",
    "    raise Exception(\"Could not fine a chunk marker.\")\n",
    "            \n",
    "def empty_code_cell():\n",
    "    \"Create an empty code cell.\"\n",
    "    cell = dict(cell_type = 'code',\n",
    "                execution_count = 1,\n",
    "                metadata = {},\n",
    "                outputs = [])\n",
    "    return cell\n",
    "\n",
    "def empty_markdown_cell():\n",
    "    \"Create an empty markdown cell.\"\n",
    "    cell = dict(cell_type = 'markdown',\n",
    "                metadata = {})\n",
    "    return cell\n",
    "\n",
    "def create_jupyter_cell(chunk_type, lines):\n",
    "    \"Create a cell from a chunk.\"\n",
    "    if chunk_type in ['module', 'notebook', 'test']:\n",
    "        # all of these chunk types map to the code cell type.\n",
    "        cell = empty_code_cell()\n",
    "    elif chunk_type == 'markdown':\n",
    "        cell = empty_markdown_cell()\n",
    "        # Remove comments from the markdown\n",
    "        lines = [uncomment_line(l) for l in lines]\n",
    "    else:\n",
    "        raise Exception(f\"Can't create notebook cell of type = {chunk_type}.\")\n",
    "    # Trim blank readability lines from front and back\n",
    "    lines = lines[1:-1]\n",
    "    if len(lines) > 0:\n",
    "        # Strip the last newline\n",
    "        lines[-1] = lines[-1].rstrip()\n",
    "    cell['source'] = lines\n",
    "    return cell\n",
    "\n",
    "def extract_metadata(lines):\n",
    "    \"Deserialize the JSON in the metadata section.\"\n",
    "    lines = [uncomment_line(l) for l in lines]\n",
    "    return json.loads(\" \".join(lines))"
   ]
  },
  {
   "cell_type": "code",
   "execution_count": 18,
   "metadata": {},
   "outputs": [
    {
     "name": "stderr",
     "output_type": "stream",
     "text": [
      "2020-04-23 17:04:59,130|INFO|read_to_first_chunk| Found first marker: (0, 'markdown')\n",
      "2020-04-23 17:04:59,131|INFO|notebook_chunks| Found (1, 'markdown')\n",
      "2020-04-23 17:04:59,131|INFO|notebook_chunks| Found (2, 'markdown')\n",
      "2020-04-23 17:04:59,132|INFO|notebook_chunks| Found (3, 'module')\n",
      "2020-04-23 17:04:59,132|INFO|notebook_chunks| Found (4, 'module')\n",
      "2020-04-23 17:04:59,133|INFO|notebook_chunks| Found (5, 'notebook')\n",
      "2020-04-23 17:04:59,133|INFO|notebook_chunks| Found (6, 'notebook')\n",
      "2020-04-23 17:04:59,133|INFO|notebook_chunks| Found (7, 'notebook')\n",
      "2020-04-23 17:04:59,134|INFO|notebook_chunks| Found (8, 'module')\n",
      "2020-04-23 17:04:59,134|INFO|notebook_chunks| Found (9, 'notebook')\n",
      "2020-04-23 17:04:59,134|INFO|notebook_chunks| Found (10, 'module')\n",
      "2020-04-23 17:04:59,135|INFO|notebook_chunks| Found (11, 'notebook')\n",
      "2020-04-23 17:04:59,135|INFO|notebook_chunks| Found (12, 'module')\n",
      "2020-04-23 17:04:59,136|INFO|notebook_chunks| Found (13, 'notebook')\n",
      "2020-04-23 17:04:59,136|INFO|notebook_chunks| Found (14, 'notebook')\n",
      "2020-04-23 17:04:59,136|INFO|notebook_chunks| Found (15, 'module')\n",
      "2020-04-23 17:04:59,137|INFO|notebook_chunks| Found (16, 'notebook')\n",
      "2020-04-23 17:04:59,137|INFO|notebook_chunks| Found (17, 'module')\n",
      "2020-04-23 17:04:59,137|INFO|notebook_chunks| Found (18, 'notebook')\n",
      "2020-04-23 17:04:59,138|INFO|notebook_chunks| Found (19, 'module')\n",
      "2020-04-23 17:04:59,138|INFO|notebook_chunks| Found (20, 'notebook')\n",
      "2020-04-23 17:04:59,138|INFO|notebook_chunks| Found (21, 'module')\n",
      "2020-04-23 17:04:59,139|INFO|notebook_chunks| Found (22, 'notebook')\n",
      "2020-04-23 17:04:59,139|INFO|notebook_chunks| Found (23, 'module')\n",
      "2020-04-23 17:04:59,139|INFO|notebook_chunks| Found (24, 'markdown')\n",
      "2020-04-23 17:04:59,140|INFO|notebook_chunks| Found (25, 'module')\n",
      "2020-04-23 17:04:59,140|INFO|notebook_chunks| Found (26, 'metadata')\n",
      "2020-04-23 17:04:59,141|INFO|notebook_chunks| Found (27, 'finish')\n"
     ]
    }
   ],
   "source": [
    "# notebook \n",
    "\n",
    "new_json = notebook_from_roundtrip(rt_lines)\n",
    "with open(\"ttt.ipynb\", 'w') as fs:\n",
    "    json.dump(new_json, fs)"
   ]
  },
  {
   "cell_type": "code",
   "execution_count": 26,
   "metadata": {},
   "outputs": [],
   "source": [
    "# roundtrip-ing functions\n",
    "\n",
    "def module_filename(notebook_filename):\n",
    "    \"\"\"\n",
    "    By convention notebook names destined for module-hood will be Capitilized and\n",
    "    underscore delimited.  The conversion downcases.  Double check for spaces and invalid\n",
    "    characters, since that would screw things up when defining a module.\n",
    "    \"\"\"\n",
    "    base, extension = os.path.splitext(notebook_filename)\n",
    "    regex = re.compile(r\"[\\s\\W]+\")  # Matches non-alphanumeric and whitespace\n",
    "    if regex.search(base):\n",
    "        raise Exception(\"Filename: {notebook_filename} contains invalid characters.\")\n",
    "    module_filename = base.lower() + \".py\"\n",
    "    return module_filename\n",
    "\n",
    "def convert_notebook_to_roundtrip(notebook_path, output_path):\n",
    "    \"Create a roundtrip file.\"\n",
    "    notebook = read_notebook(notebook_path)\n",
    "    save_lines(output_path, notebook_to_roundtrip(notebook))\n",
    "\n",
    "def convert_notebook_to_module(notebook_path):\n",
    "    \"Given a notebook (ipynb), extract the module and write file.\"\n",
    "    path, filename = os.path.split(notebook_path)\n",
    "    output_filename = module_filename(filename)\n",
    "    notebook = read_notebook(notebook_path)\n",
    "    logging.info(f\"Creating module {output_filename}.\")\n",
    "    save_lines(os.path.join(path, output_filename), notebook_to_module(notebook))\n",
    "\n",
    "\n",
    "def convert_roundtrip_to_notebook(roundtrip_path, notebook_path):\n",
    "    lines = read_lines(roundtrip_path)\n",
    "    notebook = notebook_from_roundtrip(lines)\n",
    "    save_notebook(notebook, notebook_path)\n"
   ]
  },
  {
   "cell_type": "code",
   "execution_count": 28,
   "metadata": {},
   "outputs": [
    {
     "name": "stderr",
     "output_type": "stream",
     "text": [
      "2020-04-23 17:12:35,239|INFO|convert_notebook_to_module| Creating module literate_notebook.py.\n",
      "2020-04-23 17:12:35,243|INFO|read_to_first_chunk| Found first marker: (0, 'markdown')\n",
      "2020-04-23 17:12:35,244|INFO|notebook_chunks| Found (1, 'markdown')\n",
      "2020-04-23 17:12:35,244|INFO|notebook_chunks| Found (2, 'markdown')\n",
      "2020-04-23 17:12:35,245|INFO|notebook_chunks| Found (3, 'module')\n",
      "2020-04-23 17:12:35,245|INFO|notebook_chunks| Found (4, 'module')\n",
      "2020-04-23 17:12:35,246|INFO|notebook_chunks| Found (5, 'notebook')\n",
      "2020-04-23 17:12:35,247|INFO|notebook_chunks| Found (6, 'notebook')\n",
      "2020-04-23 17:12:35,248|INFO|notebook_chunks| Found (7, 'notebook')\n",
      "2020-04-23 17:12:35,248|INFO|notebook_chunks| Found (8, 'module')\n",
      "2020-04-23 17:12:35,249|INFO|notebook_chunks| Found (9, 'notebook')\n",
      "2020-04-23 17:12:35,249|INFO|notebook_chunks| Found (10, 'module')\n",
      "2020-04-23 17:12:35,250|INFO|notebook_chunks| Found (11, 'notebook')\n",
      "2020-04-23 17:12:35,251|INFO|notebook_chunks| Found (12, 'module')\n",
      "2020-04-23 17:12:35,251|INFO|notebook_chunks| Found (13, 'notebook')\n",
      "2020-04-23 17:12:35,252|INFO|notebook_chunks| Found (14, 'notebook')\n",
      "2020-04-23 17:12:35,252|INFO|notebook_chunks| Found (15, 'module')\n",
      "2020-04-23 17:12:35,253|INFO|notebook_chunks| Found (16, 'notebook')\n",
      "2020-04-23 17:12:35,253|INFO|notebook_chunks| Found (17, 'module')\n",
      "2020-04-23 17:12:35,254|INFO|notebook_chunks| Found (18, 'notebook')\n",
      "2020-04-23 17:12:35,254|INFO|notebook_chunks| Found (19, 'module')\n",
      "2020-04-23 17:12:35,255|INFO|notebook_chunks| Found (20, 'notebook')\n",
      "2020-04-23 17:12:35,255|INFO|notebook_chunks| Found (21, 'module')\n",
      "2020-04-23 17:12:35,256|INFO|notebook_chunks| Found (22, 'module')\n",
      "2020-04-23 17:12:35,256|INFO|notebook_chunks| Found (23, 'notebook')\n",
      "2020-04-23 17:12:35,257|INFO|notebook_chunks| Found (24, 'markdown')\n",
      "2020-04-23 17:12:35,257|INFO|notebook_chunks| Found (25, 'module')\n",
      "2020-04-23 17:12:35,258|INFO|notebook_chunks| Found (26, 'metadata')\n",
      "2020-04-23 17:12:35,258|INFO|notebook_chunks| Found (27, 'finish')\n"
     ]
    }
   ],
   "source": [
    "# notebook\n",
    "\n",
    "if True:\n",
    "    # Be super careful here\n",
    "    convert_notebook_to_module(\"Literate_Notebook.ipynb\")\n",
    "    convert_notebook_to_roundtrip(\"Literate_Notebook.ipynb\", \"test_roundtrip.py\")\n",
    "    convert_roundtrip_to_notebook(\"test_roundtrip.py\", \"duplicate_Literate_Notebook.ipynb\")\n",
    "\n"
   ]
  },
  {
   "cell_type": "markdown",
   "metadata": {},
   "source": [
    "## TODO\n",
    "\n",
    "- Write script that uses these tools to extract modules.\n",
    "  - Makefile\n",
    "- What is the right workflow around roundtrip-ing.\n",
    "  - It would be great if you could just export a roundtrip file form Jupyter\n",
    "  - And then would you reload it somehow?\n"
   ]
  },
  {
   "cell_type": "code",
   "execution_count": null,
   "metadata": {},
   "outputs": [],
   "source": []
  }
 ],
 "metadata": {
  "kernelspec": {
   "display_name": "Python [conda env:sail] *",
   "language": "python",
   "name": "conda-env-sail-py"
  },
  "language_info": {
   "codemirror_mode": {
    "name": "ipython",
    "version": 3
   },
   "file_extension": ".py",
   "mimetype": "text/x-python",
   "name": "python",
   "nbconvert_exporter": "python",
   "pygments_lexer": "ipython3",
   "version": "3.7.0"
  }
 },
 "nbformat": 4,
 "nbformat_minor": 2
}
