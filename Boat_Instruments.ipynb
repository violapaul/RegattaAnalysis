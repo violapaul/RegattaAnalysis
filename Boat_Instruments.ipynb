{
 "cells": [
  {
   "cell_type": "markdown",
   "metadata": {},
   "source": [
    "# Boat Instruments, Damping, and Filtering\n",
    "\n",
    "## Summary\n",
    "\n",
    "This notebook investigates the \"central\" boat instruments are filtered/smoothed/damped to provide useful.\n",
    "\n",
    "- Raw instruments are measured with sensors that are quite noisy.\n",
    "- Various techniques for filtering this noise to remove it.\n",
    "   - The best approach appears to be a non-linear exponential filter.\n",
    "- Additionally direct processing of angle data (like AWA) is tricky, we provide a technique which works better.\n",
    "\n",
    "\n",
    "### Instruments and their Measurements\n",
    "- AWA: apparent wind angle, the angle of the wind blowing at the top the mast (fast but noisy)\n",
    "- AWS: apparent wind speed, the speed at the mast head (fast and noisy)\n",
    "- SPD: boat speed **through the water** measured with the paddle wheel speedo in the hull (fast and noisy)\n",
    "- HDG: compass heading (on PG this is magnetic northa and not true north, though easily corrected using magnetic variation/declination).\n",
    "- COG and SOG: course and speed over ground from the GPS (these are relative to true north not magnetic on PG). These can differ from HDG/SPD because of current and leeway.\n",
    "\n",
    "### Computed Quantities\n",
    "- TWS: true wind speed, the speed of the wind over the ground (computed from the above quantities using the \"wind triangle\").\n",
    "- TWD: true wind direction, the angle of the wind blowing over the ground.\n",
    "- TWA: true wind angle, the angle of the wind over the ground *reported relative the orientation of the boat*."
   ]
  },
  {
   "cell_type": "code",
   "execution_count": 1,
   "metadata": {},
   "outputs": [],
   "source": [
    "# Load some libraries\n",
    "from global_variables import G\n",
    "# Initialize for Seattle.\n",
    "G.init_seattle(logging_level=\"INFO\")\n",
    "\n",
    "import matplotlib.pyplot as plt\n",
    "plt.rcParams.update({'figure.max_open_warning': 0})\n"
   ]
  },
  {
   "cell_type": "code",
   "execution_count": 2,
   "metadata": {},
   "outputs": [],
   "source": [
    "\n",
    "import numpy as np\n",
    "from numba import jit\n",
    "\n"
   ]
  },
  {
   "cell_type": "code",
   "execution_count": 3,
   "metadata": {},
   "outputs": [],
   "source": [
    "# These are libraries written for RegattaAnalysis\n",
    "import race_logs\n",
    "import process as p\n",
    "import analysis as a\n",
    "import chart as c"
   ]
  },
  {
   "cell_type": "code",
   "execution_count": 4,
   "metadata": {},
   "outputs": [
    {
     "name": "stderr",
     "output_type": "stream",
     "text": [
      "2022-06-30 14:43:05,630|INFO|read_metadata| Read 193 records.\n",
      "2022-06-30 14:43:05,631|INFO|read_logs| Reading file 2019-12-07_09:47.pd.gz\n",
      "2022-06-30 14:43:06,178|INFO|read_log_file| Session from 2019-12-07 17:47:04, 124084 rows, 3.4466666666666668 hours.\n",
      "2022-06-30 14:43:08,113|INFO|read_logs| Found 124076 records before trim.\n",
      "2022-06-30 14:43:08,141|INFO|read_logs| Trimming to 54316 109378\n",
      "2022-06-30 14:43:08,142|INFO|read_logs| Reading file 2019-11-16_10:09.pd.gz\n",
      "2022-06-30 14:43:08,765|INFO|read_log_file| Session from 2019-11-16 18:09:15.020000, 128865 rows, 3.5797222222222222 hours.\n",
      "2022-06-30 14:43:09,384|INFO|read_logs| Found 126190 records before trim.\n",
      "2022-06-30 14:43:09,409|INFO|read_logs| Trimming to 41076 111668\n"
     ]
    }
   ],
   "source": [
    "dfs, races, big_df = race_logs.read_dates([\"2019-12-07\", \"2019-11-16\"])\n",
    "df = dfs[1]"
   ]
  },
  {
   "cell_type": "code",
   "execution_count": 5,
   "metadata": {},
   "outputs": [
    {
     "data": {
      "application/vnd.jupyter.widget-view+json": {
       "model_id": "863ed65a9af34584925869fb23a8158f",
       "version_major": 2,
       "version_minor": 0
      },
      "text/plain": [
       "Canvas(toolbar=Toolbar(toolitems=[('Home', 'Reset original view', 'home', 'home'), ('Back', 'Back to previous …"
      ]
     },
     "metadata": {},
     "output_type": "display_data"
    }
   ],
   "source": [
    "chart = c.plot_chart(df)\n",
    "_ = c.draw_track(df, chart, color='green')"
   ]
  },
  {
   "cell_type": "markdown",
   "metadata": {},
   "source": [
    "## Raw Signals can be noisy\n",
    "\n",
    "The wind sensor is located at the masthead, where it separately measures the wind speed (cups) and wind angle (vane). The top of the mast is a great place, because it is up above most of the airflow which can be disturbed by the sails.  The height of the masthead helps the sensor to be in the \"freestream,\" away from the boundary layer which is close the surface.   Frequently the masthead will show more wind at a wider apparent angle than what is felt at the surface (this is called twist).\n",
    "\n",
    "But the masthead is subject to large motions, as the boat rocks through waves and as the heel changes.  These introduce false readings.  Take a moment to stare at the vane while on the dock.  If the wind is light, you can rock the boat and the vane will swivel back and forth as the masthead moves.\n",
    "\n",
    "Some discussion of these issues can be found here:\n",
    "\n",
    "- Marketing copy on a fancy [B&G Wind Sensor](https://www.bandg.com/blog/vertical-wind-sensors-performance-sailing/)\n",
    "- Discussion from [North Sails on Twist](https://www.northsails.com/sailing/en/2018/10/north-u-understanding-twist-by-bill-gladstone) with great and simple figure."
   ]
  },
  {
   "cell_type": "code",
   "execution_count": 6,
   "metadata": {},
   "outputs": [
    {
     "data": {
      "application/vnd.jupyter.widget-view+json": {
       "model_id": "687b1561369e47b99ccadc022e97dbaa",
       "version_major": 2,
       "version_minor": 0
      },
      "text/plain": [
       "Canvas(toolbar=Toolbar(toolitems=[('Home', 'Reset original view', 'home', 'home'), ('Back', 'Back to previous …"
      ]
     },
     "metadata": {},
     "output_type": "display_data"
    },
    {
     "data": {
      "text/plain": [
       "{'trim_func': <function chart.quick_plot_ax.<locals>.trim_func(*args)>,\n",
       " 'update_func': <function chart.quick_plot_ax.<locals>.update_func(begin, end)>}"
      ]
     },
     "execution_count": 6,
     "metadata": {},
     "output_type": "execute_result"
    }
   ],
   "source": [
    "# Let's plot AWS and AWA on the same axis.  Note, AWS is in meters second, and AWA is in degrees.  In order\n",
    "# for things to show up reasonably, we will scaled AWS by 10.\n",
    "wdf = df\n",
    "c.quick_plot(wdf.index, (wdf.rawa, 10*wdf.raws), \"awa 10*aws\".split())"
   ]
  },
  {
   "cell_type": "code",
   "execution_count": 7,
   "metadata": {},
   "outputs": [
    {
     "data": {
      "application/vnd.jupyter.widget-view+json": {
       "model_id": "1b3f53bfb6da4996825f630784936269",
       "version_major": 2,
       "version_minor": 0
      },
      "text/plain": [
       "Canvas(toolbar=Toolbar(toolitems=[('Home', 'Reset original view', 'home', 'home'), ('Back', 'Back to previous …"
      ]
     },
     "metadata": {},
     "output_type": "display_data"
    },
    {
     "data": {
      "text/plain": [
       "{'trim_func': <function chart.quick_plot_ax.<locals>.trim_func(*args)>,\n",
       " 'update_func': <function chart.quick_plot_ax.<locals>.update_func(begin, end)>}"
      ]
     },
     "execution_count": 7,
     "metadata": {},
     "output_type": "execute_result"
    }
   ],
   "source": [
    "# There is just way too much data here,  though you can zoom in using the plotting tool.\n",
    "\n",
    "# Let's focus in on 100 seconds from the middle, centered on a tack.\n",
    "delay = 100 * G.SAMPLES_PER_SECOND\n",
    "start = 99100 # 87000\n",
    "\n",
    "wide_slice = slice(start, start + delay)\n",
    "wdf = df.loc[wide_slice]\n",
    "c.quick_plot(wdf.index, (wdf.rawa, 10*wdf.raws), \"awa 10*aws\".split())\n",
    "\n",
    "# There are 10 samples per second, the ticks below are 200 samples, or 20 seconds."
   ]
  },
  {
   "cell_type": "code",
   "execution_count": 8,
   "metadata": {
    "scrolled": false
   },
   "outputs": [
    {
     "data": {
      "application/vnd.jupyter.widget-view+json": {
       "model_id": "3ae45d8c50934049ace4ca20d3fbf3f8",
       "version_major": 2,
       "version_minor": 0
      },
      "text/plain": [
       "Canvas(toolbar=Toolbar(toolitems=[('Home', 'Reset original view', 'home', 'home'), ('Back', 'Back to previous …"
      ]
     },
     "metadata": {},
     "output_type": "display_data"
    },
    {
     "data": {
      "text/plain": [
       "<matplotlib.axes._subplots.AxesSubplot at 0x7f9870e44518>"
      ]
     },
     "execution_count": 8,
     "metadata": {},
     "output_type": "execute_result"
    }
   ],
   "source": [
    "# Let's drill down and look at 5 seconds (50 samples)\n",
    "narrow_slice = slice(start, start + 5 * G.SAMPLES_PER_SECOND)\n",
    "ndf = df.loc[narrow_slice]\n",
    "plt.figure()\n",
    "ndf.rawa.plot(marker='.')"
   ]
  },
  {
   "cell_type": "markdown",
   "metadata": {},
   "source": [
    "## Noise, Signal, Damping, and Filtering\n",
    "\n",
    "Observe that apparent wind angle (AWA) appears \"noisy\".  Other raw instruments such as AWS, as well as boat speed (SPD), are similar.\n",
    "\n",
    "Noise is pure randomness, there is no structure and no clear physical explanation.\n",
    "\n",
    "But in the above signal there is clear evidence of rapid oscillation.  Most likely this is **not** noise.  Remember that the wind sensor is at the top of the mast, 50 feet above the water, where small changes in boat heel can lead to large and rapid movement side to side.  As the boat cuts through rhythmic waves, it is plausible that regular oscilation in **measured** wind angle would result.\n",
    "\n",
    "But is this variation useful information?  Probably not.  Neither the boat, nor the wind, is rotating 9 degrees in 0.5 seconds.  So these variations might as well be noise, and we are better of \"filtering\" them away.\n",
    "\n",
    "The true AWA is hidden in this noise; if you were to display the raw wind sensor readings the numbers would be jumping around like crazy, almost impossible to read.  (On many boats you can adjust display settings to display the raw instrument readings directly.  It is not very useful.)\n",
    "\n",
    "On our B&G boat, these issues are addressed by \"damping\", which is left a bit mysterious in the Triton and Zeus B&G documentation.  Damping is a number from 0 to 10, with higher numbers providing more smoothing and less noise, while also introducing significant delay.  Further information on signal processing is provided in the documentation for some of the more advanced B&G sail computers: H5000 and WTP3.  Most likely the onboard units are using exponential filtering, perhaps a non-linear version.\n",
    "\n",
    "Note, that what is logged for AWA is not what is shown on the instrument display (Triton and Zeus), because the mast head sensor unit broadcasts raw AWA, while the displays present a filtered/damped version, which is not logged.\n",
    "\n",
    "On Peer Gynt, TWA (and TWS and TWD) are computed and broadcast by the autopilot computer (if the autopilot is on, otherwise TWA/TWD are missing).  These signals are damped **before** they are sent to other devices, including our logging device.\n",
    "\n",
    "Since TWA is closely related to AWA, let's plot them both to get a sense of how damping works."
   ]
  },
  {
   "cell_type": "code",
   "execution_count": 9,
   "metadata": {},
   "outputs": [
    {
     "data": {
      "application/vnd.jupyter.widget-view+json": {
       "model_id": "1cc1fa0d311b43989fff91f23d9da93e",
       "version_major": 2,
       "version_minor": 0
      },
      "text/plain": [
       "Canvas(toolbar=Toolbar(toolitems=[('Home', 'Reset original view', 'home', 'home'), ('Back', 'Back to previous …"
      ]
     },
     "metadata": {},
     "output_type": "display_data"
    },
    {
     "data": {
      "text/plain": [
       "<matplotlib.axes._subplots.AxesSubplot at 0x7f9888e97c18>"
      ]
     },
     "execution_count": 9,
     "metadata": {},
     "output_type": "execute_result"
    }
   ],
   "source": [
    "plt.figure()\n",
    "# RAWA is the raw values of AWA that are logged\n",
    "wdf.rawa.plot()\n",
    "# And the \"raw\" TWA that is logged is quite different and much smoother.\n",
    "wdf.rtwa.plot()"
   ]
  },
  {
   "cell_type": "markdown",
   "metadata": {},
   "source": [
    "## So much noise\n",
    "\n",
    "TWA is directly computed from AWA (using AWS, and SPD), and they are similar.  But there is a huge difference in noise. TWA is clearly filtered to remove noise.  \n",
    "\n",
    "I am very impressed (or perhaps surprised) that the TWA computed on the boat seems to have very low delay (when AWA moves, TWA moves immediately aftward...  if not before!).  Smoothing always introduced some delay. \n",
    "How is dampling/filtering/smoothing computed?\n",
    "\n",
    "## Butterworth Filter: noise vs. delay\n",
    "\n",
    "I started out by implementing a number of classical smoothing filters, my favorite being the [Butterworth](https://en.wikipedia.org/wiki/Butterworth_filter).  The Butterworth is a [causal](https://en.wikipedia.org/wiki/Causal_filter) optimal linear filter, which is parameterized by its ORDER and its CUTOFF frequency.  Order is related to complexity of the filter and its delay, and we'll just assume 5.  Cutoff is the frequency above which the filter rejects noise.  The Butterworth attempts to pass signal below CUTOFF and reject signal above CUTOFF.  \n",
    "\n",
    "Unfortunately there is no CUTOFF that can both smooth out the local noise and track the large jumps.  Butterworth also introduces quite a bit of delay."
   ]
  },
  {
   "cell_type": "code",
   "execution_count": 10,
   "metadata": {},
   "outputs": [
    {
     "data": {
      "application/vnd.jupyter.widget-view+json": {
       "model_id": "d2bb1072de0746ae9e2300f6fa1e2822",
       "version_major": 2,
       "version_minor": 0
      },
      "text/plain": [
       "Canvas(toolbar=Toolbar(toolitems=[('Home', 'Reset original view', 'home', 'home'), ('Back', 'Back to previous …"
      ]
     },
     "metadata": {},
     "output_type": "display_data"
    },
    {
     "data": {
      "text/plain": [
       "{'trim_func': <function chart.quick_plot_ax.<locals>.trim_func(*args)>,\n",
       " 'update_func': <function chart.quick_plot_ax.<locals>.update_func(begin, end)>}"
      ]
     },
     "execution_count": 10,
     "metadata": {},
     "output_type": "execute_result"
    }
   ],
   "source": [
    "# Cutoff is the frequency of the underlying signal.\n",
    "coeff = p.butterworth_filter(cutoff=0.15, order=5)\n",
    "\n",
    "# Smooth angle applies the filter, with special handling of angles that wrap around at 360.\n",
    "df['butter_causal_awa'] = p.smooth_angle(coeff, df.rawa, causal=True)\n",
    "wdf = df.loc[wide_slice]\n",
    "\n",
    "c.quick_plot(wdf.index, (wdf.rawa, wdf.rtwa, wdf.butter_causal_awa), \"awa rtwa sawa\".split())"
   ]
  },
  {
   "cell_type": "markdown",
   "metadata": {},
   "source": [
    "## Smoother, but with a large delay.\n",
    "\n",
    "Notice that the Butterworth signal is both more wiggly that TWA **and** very delayed (perhaps 6 seconds). In general, lowering the cutoff reduces the noise (removes wiggles) but increases delay.  Conversely, larger cutoff reduces delay, but the noise grows as a result."
   ]
  },
  {
   "cell_type": "code",
   "execution_count": 11,
   "metadata": {},
   "outputs": [
    {
     "data": {
      "application/vnd.jupyter.widget-view+json": {
       "model_id": "e41b17454e65476bab45a00691ed991c",
       "version_major": 2,
       "version_minor": 0
      },
      "text/plain": [
       "Canvas(toolbar=Toolbar(toolitems=[('Home', 'Reset original view', 'home', 'home'), ('Back', 'Back to previous …"
      ]
     },
     "metadata": {},
     "output_type": "display_data"
    },
    {
     "data": {
      "text/plain": [
       "{'trim_func': <function chart.quick_plot_ax.<locals>.trim_func(*args)>,\n",
       " 'update_func': <function chart.quick_plot_ax.<locals>.update_func(begin, end)>}"
      ]
     },
     "execution_count": 11,
     "metadata": {},
     "output_type": "execute_result"
    }
   ],
   "source": [
    "# Let's raise the cutoff, which will smooth less and delay more.\n",
    "coeff = p.butterworth_filter(cutoff=0.6, order=5)\n",
    "\n",
    "df['butter_causal_awa'] = p.smooth_angle(coeff, df.rawa, causal=True)\n",
    "wdf = df.loc[wide_slice]\n",
    "\n",
    "c.quick_plot(wdf.index, (wdf.rawa, wdf.rtwa, wdf.butter_causal_awa), \"awa twa sawa\".split())"
   ]
  },
  {
   "cell_type": "markdown",
   "metadata": {},
   "source": [
    "Above we see that delay is reduced, but now there are more wiggles than TWA.\n",
    "\n",
    "## Non-causal Filters Eliminate Delay\n",
    "\n",
    "To eliminate the delay there is a standard [non-causal](https://en.wikipedia.org/wiki/Causal_filter) trick one can use: first filter the signal forward in time and then backward in time.  This **cannot** be used in real-time while you are sailing, since the entire signal must be available before processing (non-causal analysis is done afterward).  My main motivation in this analysis is to understand what the boat does, and to create algorithms that might be used on the boat.\n",
    "\n",
    "## Exponential Filtering\n",
    "\n",
    "After digging through various writings on boat instrument processing I discovered an offhand comment regarding non-linear filtering.  The basic idea is to implement a non-linear version of an exponential filter.  The exponential filter is perhaps the simplest smoothing filter, which can be implemented with very little processing:\n",
    "\n",
    "$$ o_{t} = \\alpha o_{t-1} + (1 - \\alpha) i_t $$\n",
    "\n",
    "where $o_t$ is the output and $i_t$ is the input.  Larger values of $\\alpha$ (up to 1.0) yield more smoothing (and more delay).  Smaller values of $\\alpha$ yield more noise, and less delay.  If $\\alpha = 0$ then $o_t = i_t$ \n",
    "\n",
    "Note, the exponential filter is linear and is a close cousin of the Butterworth.  It could be called a Butterworth of order 1 (which does not seem to exist).\n",
    "\n",
    "An exponential filter is very easy to implement, even on a tiny old computer.  But it is also primitive, providing poor filtering of noise.  If you want smoother filtering, then the smoothed signal is delayed (perhaps worse than a Butterworth).  \n",
    "\n",
    "*Note, We are not going to discuss `@jit`.  It is a cool hack to make code run very fast in Python. [LINK](http://numba.pydata.org/)*"
   ]
  },
  {
   "cell_type": "code",
   "execution_count": 12,
   "metadata": {},
   "outputs": [],
   "source": [
    "@jit(nopython=True)\n",
    "def simple_exponential_filter(sig, alpha):\n",
    "    res = np.zeros(sig.shape)\n",
    "    res[0] = sig[0]\n",
    "    for i in range(1, len(sig)):\n",
    "        res[i] = alpha * res[i-1] + (1-alpha) * sig[i]\n",
    "    return res"
   ]
  },
  {
   "cell_type": "code",
   "execution_count": 13,
   "metadata": {},
   "outputs": [
    {
     "data": {
      "application/vnd.jupyter.widget-view+json": {
       "model_id": "7413c506ce694f51b7282a828ebc316b",
       "version_major": 2,
       "version_minor": 0
      },
      "text/plain": [
       "Canvas(toolbar=Toolbar(toolitems=[('Home', 'Reset original view', 'home', 'home'), ('Back', 'Back to previous …"
      ]
     },
     "metadata": {},
     "output_type": "display_data"
    },
    {
     "data": {
      "text/plain": [
       "{'trim_func': <function chart.quick_plot_ax.<locals>.trim_func(*args)>,\n",
       " 'update_func': <function chart.quick_plot_ax.<locals>.update_func(begin, end)>}"
      ]
     },
     "execution_count": 13,
     "metadata": {},
     "output_type": "execute_result"
    }
   ],
   "source": [
    "df['eawa_1'] = simple_exponential_filter(np.array(df.rawa), 0.9)\n",
    "df['eawa_2'] = simple_exponential_filter(np.array(df.rawa), 0.98)\n",
    "\n",
    "wdf = df.loc[wide_slice]\n",
    "c.quick_plot(wdf.index, (wdf.rawa, wdf.rtwa, wdf.eawa_1, wdf.eawa_2), \n",
    "                         \"awa twa exponential_9 exponential_98\".split())"
   ]
  },
  {
   "cell_type": "markdown",
   "metadata": {},
   "source": [
    "Exponential filters appear to have the same problem that Butterworth has.\n",
    "\n",
    "## Non-linear Exponential\n",
    "\n",
    "The advantage is the the exponential filter is very simple, and easy to modify.  For example we can introduce a **tracking error threshold**:\n",
    "\n",
    "- If the tracking error is large then reduce alpha.\n",
    "   - Tracking error is the difference between the filtered output and the raw input.\n",
    "- If the tracking error is small then increase alpha (gradually back to original).\n",
    "\n",
    "There are a couple of magic numbers here, like the threshold and how much to decrease or increase the value of alpha (which are hard to set).  Code is below.  \n",
    "\n",
    "Note, the code for filtering angles is a bit more complex (angles wrap around at 360).  Below is the simpler (non-angle) version."
   ]
  },
  {
   "cell_type": "code",
   "execution_count": 14,
   "metadata": {},
   "outputs": [],
   "source": [
    "@jit(nopython=True)\n",
    "def exponential_filter(sig, alpha, max_error):\n",
    "    \"\"\"\n",
    "    Apply a non-linear exponential filter, where alpha is the decay (higher alpha is longer decay and higher smoothing).  If the error is\n",
    "    greater than max_error, then alpha is repeatedly reduced  (faster decay).\n",
    "    \"\"\"\n",
    "    beta = beta0 = 1 - alpha  # A bit easier to deal with beta, than alpha\n",
    "    res = np.zeros(sig.shape)\n",
    "    betas = np.zeros(sig.shape)\n",
    "    res[0] = sig[0]\n",
    "    betas[0] = beta\n",
    "    for i in range(1, len(sig)):\n",
    "        res[i] = (1 - beta) * res[i-1] + beta * sig[i]\n",
    "        # Is the output far off the input signal?\n",
    "        if np.abs(res[i] - sig[i]) > max_error:\n",
    "            # If so increase beta\n",
    "            beta = min(1.5 * beta, 0.5)\n",
    "        else:\n",
    "            # Else decrease beta back to initial beta\n",
    "            beta = (beta + beta0) / 2\n",
    "        betas[i] = beta\n",
    "    return res, betas"
   ]
  },
  {
   "cell_type": "markdown",
   "metadata": {},
   "source": [
    "### Why is this a good filter?  \n",
    "\n",
    "All filters are trying to remove the noise from the true underlying signal. When sailing, a good model for true AWA (or true TWA or HDG) is that the true signal usually changes slowly (between tacks and gybes), except when there are large step changes (at tacks/gybes).  So AWA/AWS/HDG and other signals look a bit like a classic [square wave](https://en.wikipedia.org/wiki/Square_wave).\n",
    "\n",
    "Imagine an exponential filter which had advanced knowledge of each tack. This magic filter could use two values of alpha, say 0.99 between the tacks (to smooth out the noise) and 0.5 during the tacks (to track the large changes).  The non-linear exponential filter adjusts alpha by looking at the output of the filter.  If the tracking is poor, then the signal must be in the step regime, so alpha is reduced.  If tracking is good then alpha is increased.\n",
    "\n",
    "The Butterworth and the exponential filter are stuck processing using a single compromise value of alpha.\n",
    "\n",
    "(Note, I suppose this sort of processing could be justified by a two state hidden markov model (HMM) which could work along similar lines.)"
   ]
  },
  {
   "cell_type": "code",
   "execution_count": 15,
   "metadata": {
    "scrolled": false
   },
   "outputs": [
    {
     "data": {
      "application/vnd.jupyter.widget-view+json": {
       "model_id": "018043ea4ffa444dabba6ccbac55d8a1",
       "version_major": 2,
       "version_minor": 0
      },
      "text/plain": [
       "Canvas(toolbar=Toolbar(toolitems=[('Home', 'Reset original view', 'home', 'home'), ('Back', 'Back to previous …"
      ]
     },
     "metadata": {},
     "output_type": "display_data"
    },
    {
     "data": {
      "application/vnd.jupyter.widget-view+json": {
       "model_id": "ff826f7e1039422086b5f3b1a1cbf06a",
       "version_major": 2,
       "version_minor": 0
      },
      "text/plain": [
       "Canvas(toolbar=Toolbar(toolitems=[('Home', 'Reset original view', 'home', 'home'), ('Back', 'Back to previous …"
      ]
     },
     "metadata": {},
     "output_type": "display_data"
    },
    {
     "data": {
      "text/plain": [
       "{'trim_func': <function chart.quick_plot_ax.<locals>.trim_func(*args)>,\n",
       " 'update_func': <function chart.quick_plot_ax.<locals>.update_func(begin, end)>}"
      ]
     },
     "execution_count": 15,
     "metadata": {},
     "output_type": "execute_result"
    }
   ],
   "source": [
    "# In order to better understand this filter, we will focus on AWA (and use the smoothness of TWA as a reference).\n",
    "\n",
    "# Above we used 10,000 for max_error, which essentially reduced the filter to simple exponential filter.\n",
    "# We'll pick more reasonable values here.\n",
    "max_error = 6  # the threshold, which should be roughly the magnitude of the noise \n",
    "alpha = 0.97\n",
    "df['sawa_alpha'], _ = p.exponential_filter_angle(np.array(df.rawa), alpha, 10000)\n",
    "df['sawa_alpha_theta'], _ = p.exponential_filter_angle(np.array(df.rawa), alpha, max_error)\n",
    "\n",
    "wdf = df.loc[wide_slice]\n",
    "diff = wdf.sawa_alpha_theta - wdf.sawa_alpha\n",
    "\n",
    "# This new filtered signal closely tracks AWA, while rejecting most of the noise.\n",
    "c.quick_plot(wdf.index, (wdf.rawa, wdf.rtwa, wdf.sawa_alpha, wdf.sawa_alpha_theta), \n",
    "                        \"awa twa, sawa_alpha sawa_alpha_theta\".split())\n",
    "\n",
    "\n",
    "# Second plot is a bit cleaner because it leaves out the RAWA\n",
    "c.quick_plot(wdf.index, (wdf.sawa_alpha, wdf.sawa_alpha_theta, wdf.rtwa, diff), \n",
    "                        \"sawa_alpha sawa_alpha_theta twa diff\".split())"
   ]
  },
  {
   "cell_type": "markdown",
   "metadata": {},
   "source": [
    "### Max-error threshold only matters when changes are large.\n",
    "\n",
    "In the above figure DIFF shows the difference between the linear and non-linear exponential filter. Where the difference is ZERO the max error threshold is not doing much.  We can see that MAX_ERROR only plays a role in the regions of the tack (where a rapid change in AWA is triggered).  Between the tacks, there is no difference between the two signals.\n",
    "\n",
    "**How is theta determined?** In this case by eye.  After selecting a threshold, like 6, you can examine the tracking error to see if the signal strays far from the raw.\n",
    "\n",
    "Try varying theta below, for larger values the smoothed value does not track through the tack.  For smaller values the noise gets worse."
   ]
  },
  {
   "cell_type": "code",
   "execution_count": 16,
   "metadata": {},
   "outputs": [
    {
     "data": {
      "application/vnd.jupyter.widget-view+json": {
       "model_id": "7b936b83dad14688b872d022ef04ff28",
       "version_major": 2,
       "version_minor": 0
      },
      "text/plain": [
       "Canvas(toolbar=Toolbar(toolitems=[('Home', 'Reset original view', 'home', 'home'), ('Back', 'Back to previous …"
      ]
     },
     "metadata": {},
     "output_type": "display_data"
    },
    {
     "data": {
      "text/plain": [
       "{'trim_func': <function chart.quick_plot_ax.<locals>.trim_func(*args)>,\n",
       " 'update_func': <function chart.quick_plot_ax.<locals>.update_func(begin, end)>}"
      ]
     },
     "execution_count": 16,
     "metadata": {},
     "output_type": "execute_result"
    }
   ],
   "source": [
    "theta = 6 # the threshold, which should be approximate the noise \n",
    "alpha = 0.97\n",
    "df['sawa_alpha_theta'], _ = p.exponential_filter_angle(np.array(df.rawa), alpha, theta)\n",
    "\n",
    "wdf = df.loc[wide_slice]\n",
    "\n",
    "err = wdf.rawa - wdf.sawa_alpha_theta\n",
    "c.quick_plot(wdf.index, (wdf.rawa, wdf.sawa_alpha_theta, err), \n",
    "                        \"rawa sawa err\".split())"
   ]
  },
  {
   "cell_type": "markdown",
   "metadata": {},
   "source": [
    "We can see that the ERR signal looks a lot like random noise (or perhaps it is the noise introduced by the motion of the mast).  And the noise has a peak to peak magnitude of about of about 6."
   ]
  },
  {
   "cell_type": "code",
   "execution_count": 17,
   "metadata": {
    "scrolled": false
   },
   "outputs": [
    {
     "data": {
      "application/vnd.jupyter.widget-view+json": {
       "model_id": "3d6d12fbed3e49e0af7d47419ef25dc7",
       "version_major": 2,
       "version_minor": 0
      },
      "text/plain": [
       "Canvas(toolbar=Toolbar(toolitems=[('Home', 'Reset original view', 'home', 'home'), ('Back', 'Back to previous …"
      ]
     },
     "metadata": {},
     "output_type": "display_data"
    },
    {
     "data": {
      "application/vnd.jupyter.widget-view+json": {
       "model_id": "1fc20962ef06481fa501386569cd60ff",
       "version_major": 2,
       "version_minor": 0
      },
      "text/plain": [
       "Canvas(toolbar=Toolbar(toolitems=[('Home', 'Reset original view', 'home', 'home'), ('Back', 'Back to previous …"
      ]
     },
     "metadata": {},
     "output_type": "display_data"
    },
    {
     "data": {
      "text/plain": [
       "{'trim_func': <function chart.quick_plot_ax.<locals>.trim_func(*args)>,\n",
       " 'update_func': <function chart.quick_plot_ax.<locals>.update_func(begin, end)>}"
      ]
     },
     "execution_count": 17,
     "metadata": {},
     "output_type": "execute_result"
    }
   ],
   "source": [
    "# Note different signals require different settings of alpha, because they have different \n",
    "# dynamics and noise.\n",
    "theta = 6\n",
    "alpha = 0.97\n",
    "df['sawa'], _ = p.exponential_filter_angle(np.array(df.rawa), alpha, theta)\n",
    "\n",
    "# Less noise and smaller theta values.\n",
    "df['saws'], _ = p.exponential_filter(np.array(df.raws), 0.95, 0.6)\n",
    "df['sspd'], _ = p.exponential_filter(np.array(df.rspd), 0.8, 0.5)\n",
    "df['ssog'], _ = p.exponential_filter(np.array(df.rsog), 0.8, 0.5)\n",
    "\n",
    "df['shdg'], _ = p.exponential_filter_angle(np.array(df.rhdg), 0.8, 6)\n",
    "df['scog'], _ = p.exponential_filter_angle(np.array(df.rcog), 0.9, 6)\n",
    "\n",
    "\n",
    "wdf = df.loc[wide_slice]\n",
    "c.quick_plot(wdf.index, (wdf.rcog, wdf.scog, wdf.rhdg, wdf.shdg))\n",
    "c.quick_plot(wdf.index, (wdf.rspd, wdf.sspd, wdf.rsog, wdf.ssog))\n"
   ]
  },
  {
   "cell_type": "markdown",
   "metadata": {},
   "source": [
    "## Processing angles can be tricky\n",
    "\n",
    "Their are two problems with angles:\n",
    "\n",
    "1. Wrap around (which we mentioned above):  Angle 355 and 005 are \"far\" in value, but close in meaning.\n",
    "2. Instability when speeds are low.  It is very hard to measure the angle of wind when wind speed is low (any noise, or motion of the boat can dwarf the true signal).  \n",
    "\n",
    "Angle instability is not an issue when you can measure angle directly, with a compass for example (which does not require motion).  But it is an issue when motion is necessary, such as AWA, TWA, TWD, and even COG.  The weathervane that measures AWA is not very stable as the wind speed reduces to zero (below 2 knots).  COG, which is measured by the GPS unit, is only defined with SOG is measurably above zero.  I first noticed this because the GPS unit does not even output COG until we are away from the doc!\n",
    "\n",
    "What does this mean in practice?  **The noise in an angule is larger when speeds are low.** \n",
    "\n",
    "In the first race below, the wind was much lower."
   ]
  },
  {
   "cell_type": "code",
   "execution_count": 18,
   "metadata": {},
   "outputs": [
    {
     "data": {
      "application/vnd.jupyter.widget-view+json": {
       "model_id": "13a4be0577664168bc240df6ecf17d60",
       "version_major": 2,
       "version_minor": 0
      },
      "text/plain": [
       "Canvas(toolbar=Toolbar(toolitems=[('Home', 'Reset original view', 'home', 'home'), ('Back', 'Back to previous …"
      ]
     },
     "metadata": {},
     "output_type": "display_data"
    },
    {
     "data": {
      "text/plain": [
       "{'lat_max': 47.77113836,\n",
       " 'lat_min': 47.62918344,\n",
       " 'lon_max': -122.35456678,\n",
       " 'lon_min': -122.47066832,\n",
       " 'proj': ' +proj=tmerc +lat_0=47.6873070 +lon_0=-122.4386440 +k_0=0.9996 +datum=WGS84 +units=m +no_defs ',\n",
       " 'pixels': 2000,\n",
       " 'south': -6459.309067375161,\n",
       " 'north': 9320.488324321468,\n",
       " 'east': 6299.471120574891,\n",
       " 'west': -2405.9388936818896,\n",
       " 'path': '/tmp/mbtile.tif',\n",
       " 'source': 'Data/MBTILES/MBTILES_06.mbtiles',\n",
       " 'image': array([[[255, 255, 255],\n",
       "         [255, 255, 255],\n",
       "         [255, 255, 255],\n",
       "         ...,\n",
       "         [239, 216, 163],\n",
       "         [239, 216, 163],\n",
       "         [239, 216, 163]],\n",
       " \n",
       "        [[255, 255, 255],\n",
       "         [255, 255, 255],\n",
       "         [255, 255, 255],\n",
       "         ...,\n",
       "         [239, 216, 163],\n",
       "         [239, 216, 163],\n",
       "         [239, 216, 163]],\n",
       " \n",
       "        [[255, 255, 255],\n",
       "         [255, 255, 255],\n",
       "         [255, 255, 255],\n",
       "         ...,\n",
       "         [239, 216, 163],\n",
       "         [239, 216, 163],\n",
       "         [239, 216, 163]],\n",
       " \n",
       "        ...,\n",
       " \n",
       "        [[255, 255, 255],\n",
       "         [255, 255, 255],\n",
       "         [255, 255, 255],\n",
       "         ...,\n",
       "         [239, 216, 163],\n",
       "         [239, 216, 163],\n",
       "         [239, 216, 163]],\n",
       " \n",
       "        [[255, 255, 255],\n",
       "         [255, 255, 255],\n",
       "         [255, 255, 255],\n",
       "         ...,\n",
       "         [239, 216, 163],\n",
       "         [239, 216, 163],\n",
       "         [239, 216, 163]],\n",
       " \n",
       "        [[255, 255, 255],\n",
       "         [255, 255, 255],\n",
       "         [255, 255, 255],\n",
       "         ...,\n",
       "         [239, 216, 163],\n",
       "         [239, 216, 163],\n",
       "         [239, 216, 163]]], dtype=uint8),\n",
       " 'fig': <Figure size 600x600 with 1 Axes>,\n",
       " 'ax': <matplotlib.axes._subplots.AxesSubplot at 0x7f98b0aee160>,\n",
       " 'track': array([[2153.9598, -461.8534],\n",
       "        [2153.7797, -461.9869],\n",
       "        [2153.6071, -462.1314],\n",
       "        ...,\n",
       "        [2212.9971, -191.395 ],\n",
       "        [2213.0422, -191.4617],\n",
       "        [2213.0948, -191.5617]]),\n",
       " 'line': <matplotlib.lines.Line2D at 0x7f98914f2780>}"
      ]
     },
     "execution_count": 18,
     "metadata": {},
     "output_type": "execute_result"
    }
   ],
   "source": [
    "df = dfs[1]\n",
    "\n",
    "chart = c.plot_chart(big_df)\n",
    "c.draw_track(dfs[0], chart, color='green')\n",
    "c.draw_track(dfs[1], chart, color='red')\n",
    "\n"
   ]
  },
  {
   "cell_type": "code",
   "execution_count": 19,
   "metadata": {},
   "outputs": [
    {
     "data": {
      "application/vnd.jupyter.widget-view+json": {
       "model_id": "1ca20bea3a8f4c6cb307886e76e6137e",
       "version_major": 2,
       "version_minor": 0
      },
      "text/plain": [
       "Canvas(toolbar=Toolbar(toolitems=[('Home', 'Reset original view', 'home', 'home'), ('Back', 'Back to previous …"
      ]
     },
     "metadata": {},
     "output_type": "display_data"
    },
    {
     "name": "stdout",
     "output_type": "stream",
     "text": [
      "Average wind speed #0 is 3.9691740737138117\n",
      "Average wind speed #1 is 5.513052265903146\n"
     ]
    }
   ],
   "source": [
    "plt.figure()\n",
    "plt.hist(dfs[0].aws, bins=50, histtype='step', density=True)\n",
    "plt.hist(dfs[1].aws, bins=50, histtype='step', density=True)\n",
    "\n",
    "print(f\"Average wind speed #0 is {dfs[0].aws.mean()}\")\n",
    "print(f\"Average wind speed #1 is {dfs[1].aws.mean()}\")"
   ]
  },
  {
   "cell_type": "code",
   "execution_count": 20,
   "metadata": {},
   "outputs": [
    {
     "data": {
      "application/vnd.jupyter.widget-view+json": {
       "model_id": "86416830e6f645eba518cb283c85a700",
       "version_major": 2,
       "version_minor": 0
      },
      "text/plain": [
       "Canvas(toolbar=Toolbar(toolitems=[('Home', 'Reset original view', 'home', 'home'), ('Back', 'Back to previous …"
      ]
     },
     "metadata": {},
     "output_type": "display_data"
    },
    {
     "data": {
      "application/vnd.jupyter.widget-view+json": {
       "model_id": "fca7b7386f8e40f4be87add639702c17",
       "version_major": 2,
       "version_minor": 0
      },
      "text/plain": [
       "Canvas(toolbar=Toolbar(toolitems=[('Home', 'Reset original view', 'home', 'home'), ('Back', 'Back to previous …"
      ]
     },
     "metadata": {},
     "output_type": "display_data"
    },
    {
     "data": {
      "text/plain": [
       "{'trim_func': <function chart.quick_plot_ax.<locals>.trim_func(*args)>,\n",
       " 'update_func': <function chart.quick_plot_ax.<locals>.update_func(begin, end)>}"
      ]
     },
     "execution_count": 20,
     "metadata": {},
     "output_type": "execute_result"
    }
   ],
   "source": [
    "wdf = dfs[0]\n",
    "c.quick_plot(wdf.index, (wdf.rawa, 10*wdf.raws), \"awa 10*aws\".split())\n",
    "wdf = dfs[1]\n",
    "c.quick_plot(wdf.index, (wdf.rawa, 10*wdf.raws), \"awa 10*aws\".split())"
   ]
  },
  {
   "cell_type": "markdown",
   "metadata": {},
   "source": [
    "### Noise is related to speed, even within a single race.\n",
    "\n",
    "When racing, most of the time we sail to a constant \"target\" AWA (for max VMG).  As a result we will see the \"square wave\" we mentioned above: constant AWA with periodic large jumps. There will be natural variations, but notice in both above graphs when AWS is below 3 m/s (6 knots) the noise is measurably larger (perhaps double).\n",
    "\n",
    "In particular, in the first graph look at `[72000, 80000]`.  The \"noise\" in AWA is massive.\n",
    "\n",
    "In general when sailing downwind the AWS is lower (since we are sailing away from the wind), this consistently increases noise.\n",
    "\n",
    "But also recall that we needed to select a `max_error` threshold, and that this threshold is basically equal to the noise we expect to see.  In the new datasets above I've found that 12 works best for first (low wind) and 6 for the second (higher wind).  Unfortunately wind can change throughout the race.\n",
    "\n",
    "So now we need a threshold that is either too large (so it works all the time) or one that is adjusted based on AWS?\n",
    "\n",
    "Why is a too large threshold bad?  It will introduce too much delay in tacks.  Why is a too small threshold bad? It will treat noise as signal and let more noise through.\n",
    "\n",
    "One approach is to avoid angular smoothing altogether.  Rather than process AWA and AWS separately, they can be combined into an estimate of two components of wind speed (no angles!): \"boat north\" which blows acorss the bow, and \"boat east\" which plows to port.  These components can be easily recombined to form AWS and AWA.\n"
   ]
  },
  {
   "cell_type": "code",
   "execution_count": 21,
   "metadata": {},
   "outputs": [
    {
     "data": {
      "text/plain": [
       "<module 'chart' from '/Users/viola/GDrive/Sailboat/Code/Python/sailing/chart.py'>"
      ]
     },
     "execution_count": 21,
     "metadata": {},
     "output_type": "execute_result"
    }
   ],
   "source": [
    "import importlib\n",
    "importlib.reload(c)"
   ]
  },
  {
   "cell_type": "code",
   "execution_count": 22,
   "metadata": {},
   "outputs": [
    {
     "data": {
      "application/vnd.jupyter.widget-view+json": {
       "model_id": "234abe9c97084354812751e134f16a7d",
       "version_major": 2,
       "version_minor": 0
      },
      "text/plain": [
       "Canvas(toolbar=Toolbar(toolitems=[('Home', 'Reset original view', 'home', 'home'), ('Back', 'Back to previous …"
      ]
     },
     "metadata": {},
     "output_type": "display_data"
    },
    {
     "data": {
      "application/vnd.jupyter.widget-view+json": {
       "model_id": "6fdc0c22d1904ec7b67ec94aa2dcb645",
       "version_major": 2,
       "version_minor": 0
      },
      "text/plain": [
       "Canvas(toolbar=Toolbar(toolitems=[('Home', 'Reset original view', 'home', 'home'), ('Back', 'Back to previous …"
      ]
     },
     "metadata": {},
     "output_type": "display_data"
    }
   ],
   "source": [
    "# Let's break apparent wind into two components, \"boat north\" and \"boat east\".  \n",
    "# Boat north points to the bow.  Boat east points to starboard.  (This will be of value as we estimate TWA as well.)\n",
    "# fig = plt.figure()v\n",
    "for df in dfs:\n",
    "    df['aw_n'] = df.raws * p.cos_d(df.rawa)\n",
    "    df['aw_e'] = df.raws * p.sin_d(df.rawa)\n",
    "\n",
    "    c.quick_plot(df.index, (df.aw_n, df.aw_e), \"AW_North AW_East\".split(), ylim=(-10, 10)) # fignum=fig, clf=False)\n"
   ]
  },
  {
   "cell_type": "markdown",
   "metadata": {},
   "source": [
    "### Noise is now much more consistent\n",
    "\n",
    "First note that the noise is much more consistent between the two days.  By eye,  but it looks like the noise is roughly 1-2 m/s.\n",
    "\n",
    "Also note, that in the near zero wind condition (`[72000, 80000]` in the first graph above) we do not have massive increase in the noise (as we did before).\n",
    "\n",
    "The new approach is then to smooth in aw_e and aw_n separately and then recombine.\n"
   ]
  },
  {
   "cell_type": "code",
   "execution_count": 23,
   "metadata": {},
   "outputs": [
    {
     "data": {
      "text/plain": [
       "(array([3.8093, 3.7983, 3.7877, ..., 4.8601, 4.8709, 4.8818]),\n",
       " array([0.03, 0.03, 0.03, ..., 0.03, 0.03, 0.03]))"
      ]
     },
     "execution_count": 23,
     "metadata": {},
     "output_type": "execute_result"
    }
   ],
   "source": [
    "p.exponential_filter(np.array(df.aw_n), alpha, theta)"
   ]
  },
  {
   "cell_type": "code",
   "execution_count": 24,
   "metadata": {},
   "outputs": [],
   "source": [
    "for df in dfs:\n",
    "    theta = 6 # the threshold, which should be approximate the noise \n",
    "    alpha = 0.97\n",
    "    df['sawa_alpha_theta'], _ = p.exponential_filter_angle(np.array(df.rawa), alpha, theta)    \n",
    "\n",
    "    theta = 0.8\n",
    "    alpha = 0.97\n",
    "    df['saw_n'], _ = p.exponential_filter(np.array(df.aw_n), alpha, theta)\n",
    "    df['saw_e'], _ = p.exponential_filter(np.array(df.aw_e), alpha, theta)\n",
    "    \n",
    "    df['sawa'] = np.degrees(np.arctan2(df.saw_e, df.saw_n))\n",
    "    df['saws'] = np.sqrt(np.square(df.saw_e) + np.square(df.saw_n))\n"
   ]
  },
  {
   "cell_type": "code",
   "execution_count": 25,
   "metadata": {},
   "outputs": [
    {
     "data": {
      "application/vnd.jupyter.widget-view+json": {
       "model_id": "efbb8bea32704f149cdee7ebbfbd6d77",
       "version_major": 2,
       "version_minor": 0
      },
      "text/plain": [
       "Canvas(toolbar=Toolbar(toolitems=[('Home', 'Reset original view', 'home', 'home'), ('Back', 'Back to previous …"
      ]
     },
     "metadata": {},
     "output_type": "display_data"
    },
    {
     "data": {
      "application/vnd.jupyter.widget-view+json": {
       "model_id": "d0e6491ee285447e95721db722bb256d",
       "version_major": 2,
       "version_minor": 0
      },
      "text/plain": [
       "Canvas(toolbar=Toolbar(toolitems=[('Home', 'Reset original view', 'home', 'home'), ('Back', 'Back to previous …"
      ]
     },
     "metadata": {},
     "output_type": "display_data"
    }
   ],
   "source": [
    "for df in dfs:\n",
    "    c.quick_plot(df.index, (df.sawa_alpha_theta, df.sawa, 10*df.saws), \"sawa_angle, sawa 10*aws\".split())"
   ]
  },
  {
   "cell_type": "markdown",
   "metadata": {},
   "source": [
    "### New AWA results are much more stable\n",
    "\n",
    "Notice in the above graphs:\n",
    "\n",
    "- The new results are \"better\" (smoother, more consistent) when wind speed is low.\n",
    "- The new results are quite similar to previous estimates when the wind speed is higher.\n",
    "\n",
    "The advantage of the new process is that this same filtering parameters work equally well in varying wind conditions."
   ]
  },
  {
   "cell_type": "code",
   "execution_count": 26,
   "metadata": {},
   "outputs": [
    {
     "data": {
      "application/vnd.jupyter.widget-view+json": {
       "model_id": "7ce97e46b72a46a7b4d42c4edc7c2299",
       "version_major": 2,
       "version_minor": 0
      },
      "text/plain": [
       "Canvas(toolbar=Toolbar(toolitems=[('Home', 'Reset original view', 'home', 'home'), ('Back', 'Back to previous …"
      ]
     },
     "metadata": {},
     "output_type": "display_data"
    },
    {
     "data": {
      "application/vnd.jupyter.widget-view+json": {
       "model_id": "fb41edae06e846fba8ae4c967df077f1",
       "version_major": 2,
       "version_minor": 0
      },
      "text/plain": [
       "Canvas(toolbar=Toolbar(toolitems=[('Home', 'Reset original view', 'home', 'home'), ('Back', 'Back to previous …"
      ]
     },
     "metadata": {},
     "output_type": "display_data"
    },
    {
     "data": {
      "application/vnd.jupyter.widget-view+json": {
       "model_id": "c5a760f8358547b5933d204a22f9e7f3",
       "version_major": 2,
       "version_minor": 0
      },
      "text/plain": [
       "Canvas(toolbar=Toolbar(toolitems=[('Home', 'Reset original view', 'home', 'home'), ('Back', 'Back to previous …"
      ]
     },
     "metadata": {},
     "output_type": "display_data"
    },
    {
     "data": {
      "text/plain": [
       "{'trim_func': <function chart.quick_plot_ax.<locals>.trim_func(*args)>,\n",
       " 'update_func': <function chart.quick_plot_ax.<locals>.update_func(begin, end)>}"
      ]
     },
     "execution_count": 26,
     "metadata": {},
     "output_type": "execute_result"
    }
   ],
   "source": [
    "# Let's compare with the previous \"angle based\" results.\n",
    "\n",
    "df = dfs[1]\n",
    "\n",
    "\n",
    "wdf = df\n",
    "c.quick_plot(wdf.index, (wdf.rawa, wdf.rtwa, wdf.sawa_alpha_theta, wdf.sawa), \n",
    "                        \"awa twa, sawa_alpha_theta sawa\".split())\n",
    "\n",
    "wdf = df.loc[wide_slice]\n",
    "c.quick_plot(wdf.index, (wdf.rawa, wdf.rtwa, wdf.sawa_alpha_theta, wdf.sawa), \n",
    "                        \"awa twa, sawa_alpha_theta sawa\".split())\n",
    "\n",
    "wdf = df.loc[narrow_slice]\n",
    "c.quick_plot(wdf.index, (wdf.rawa, wdf.sawa_alpha_theta, wdf.sawa), \n",
    "                        \"awa sawa_alpha_theta sawa\".split())"
   ]
  },
  {
   "cell_type": "markdown",
   "metadata": {},
   "source": [
    "\n",
    "\n",
    "# Conclusions\n",
    "\n",
    "- Raw instruments are measured with sensors that are quite noisy.\n",
    "- We have demonstrated various techniques for filtering this noise to remove it.\n",
    "   - The best approach appears to be a non-linear exponential filter.  This filter is simple, inexpensive, and handles real sailing data well.\n",
    "- Additionally direct processing of angle data (like AWA) is tricky, we provide a technique which works better.\n"
   ]
  }
 ],
 "metadata": {
  "interpreter": {
   "hash": "66b33ff23e3cb74f367a2d7ac95044a708716c34f6509ccf89af332b90915d67"
  },
  "kernelspec": {
   "display_name": "Python 3.7.0 64-bit ('sail')",
   "language": "python",
   "name": "python3"
  },
  "language_info": {
   "codemirror_mode": {
    "name": "ipython",
    "version": 3
   },
   "file_extension": ".py",
   "mimetype": "text/x-python",
   "name": "python",
   "nbconvert_exporter": "python",
   "pygments_lexer": "ipython3",
   "version": "3.7.0"
  }
 },
 "nbformat": 4,
 "nbformat_minor": 2
}
