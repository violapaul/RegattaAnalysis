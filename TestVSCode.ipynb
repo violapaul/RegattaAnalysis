{
 "cells": [
  {
   "cell_type": "code",
   "execution_count": 1,
   "metadata": {},
   "outputs": [],
   "source": [
    "\n",
    "import numpy as np\n"
   ]
  },
  {
   "cell_type": "code",
   "execution_count": null,
   "metadata": {},
   "outputs": [],
   "source": [
    "rr = np.random.randn(100)\n"
   ]
  }
 ],
 "metadata": {
  "interpreter": {
   "hash": "66b33ff23e3cb74f367a2d7ac95044a708716c34f6509ccf89af332b90915d67"
  },
  "kernelspec": {
   "display_name": "Python 3.7.0 64-bit ('sail')",
   "language": "python",
   "name": "python3"
  },
  "language_info": {
   "codemirror_mode": {
    "name": "ipython",
    "version": 3
   },
   "file_extension": ".py",
   "mimetype": "text/x-python",
   "name": "python",
   "nbconvert_exporter": "python",
   "pygments_lexer": "ipython3",
   "version": "3.7.0"
  },
  "orig_nbformat": 4
 },
 "nbformat": 4,
 "nbformat_minor": 2
}
