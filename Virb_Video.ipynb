{
 "cells": [
  {
   "cell_type": "code",
   "execution_count": null,
   "metadata": {},
   "outputs": [],
   "source": [
    "# These are libraries written for RaceAnalysis\n",
    "from global_variables import G\n",
    "from nbutils import display_markdown, display\n",
    "\n",
    "G.init_seattle(logging_level=\"INFO\")\n",
    "\n",
    "import itertools as it\n",
    "import pandas as pd\n",
    "import numpy as np\n",
    "\n",
    "import race_logs\n",
    "import process as p\n",
    "import analysis as a\n",
    "import chart as c\n",
    "\n",
    "# This is the python-fitparse library\n",
    "from fitparse import FitFile\n",
    "\n",
    "# ff = FitFile('Data/Virb360Fit/2020-04-09-21-41-03.fit')\n",
    "# ff = FitFile('/Volumes/Big/Virb/GMetrix/2020-07-11-09-27-15.fit')\n",
    "ff = FitFile('Data/Virb360Fit/2020-07-11-09-27-15.fit')"
   ]
  },
  {
   "cell_type": "code",
   "execution_count": 9,
   "metadata": {
    "scrolled": false
   },
   "outputs": [
    {
     "name": "stdout",
     "output_type": "stream",
     "text": [
      "{'serial_number': 3967827018, 'time_created': datetime.datetime(2020, 7, 11, 16, 27, 15), 'unknown_7': None, 'manufacturer': 'garmin', 'garmin_product': None, 'number': None, 'type': 'activity'}\n",
      "2020-07-11 16:27:15\n",
      "0\n",
      "10000\n",
      "20000\n",
      "30000\n",
      "40000\n",
      "50000\n",
      "60000\n",
      "70000\n",
      "80000\n",
      "90000\n",
      "<MessageType: file_id (#0)>\n",
      "<MessageType: file_creator (#49)>\n",
      "<MessageType: event (#21)>\n",
      "<MessageType: device_info (#23)>\n",
      "None\n",
      "<MessageType: three_d_sensor_calibration (#167)>\n",
      "<MessageType: one_d_sensor_calibration (#210)>\n",
      "<MessageType: record (#20)>\n",
      "<MessageType: barometer_data (#209)>\n",
      "<MessageType: timestamp_correlation (#162)>\n",
      "<MessageType: gps_metadata (#160)>\n",
      "<MessageType: camera_event (#161)>\n",
      "<MessageType: gyroscope_data (#164)>\n",
      "<MessageType: accelerometer_data (#165)>\n",
      "<MessageType: magnetometer_data (#208)>\n"
     ]
    }
   ],
   "source": [
    "messages = it.islice(ff.get_messages('file_id'), 0, 10, None)\n",
    "\n",
    "file_id = next(messages).get_values()\n",
    "\n",
    "print(file_id)\n",
    "\n",
    "dt = file_id['time_created']\n",
    "print(dt)\n",
    "\n",
    "dd = {}\n",
    "for i, m in enumerate(it.islice(ff.get_messages(), 0, 100000, None)):\n",
    "    if i % 10000 == 0:\n",
    "        print(i)\n",
    "    dd[m.mesg_type] = m\n",
    "\n",
    "for k, v in dd.items():\n",
    "    print(k)\n",
    "    \n"
   ]
  },
  {
   "cell_type": "code",
   "execution_count": null,
   "metadata": {},
   "outputs": [],
   "source": [
    "print(dir(m))\n",
    "m.mesg_type\n",
    "m.fields"
   ]
  },
  {
   "cell_type": "code",
   "execution_count": 10,
   "metadata": {},
   "outputs": [
    {
     "name": "stdout",
     "output_type": "stream",
     "text": [
      "Help on method get_messages in module fitparse.base:\n",
      "\n",
      "get_messages(name=None, with_definitions=False, as_dict=False) method of fitparse.base.FitFile instance\n",
      "\n"
     ]
    }
   ],
   "source": [
    "help(ff.get_messages)"
   ]
  },
  {
   "cell_type": "code",
   "execution_count": 12,
   "metadata": {
    "scrolled": false
   },
   "outputs": [
    {
     "data": {
      "text/html": [
       "<div>\n",
       "<style scoped>\n",
       "    .dataframe tbody tr th:only-of-type {\n",
       "        vertical-align: middle;\n",
       "    }\n",
       "\n",
       "    .dataframe tbody tr th {\n",
       "        vertical-align: top;\n",
       "    }\n",
       "\n",
       "    .dataframe thead th {\n",
       "        text-align: right;\n",
       "    }\n",
       "</style>\n",
       "<table border=\"1\" class=\"dataframe\">\n",
       "  <thead>\n",
       "    <tr style=\"text-align: right;\">\n",
       "      <th></th>\n",
       "      <th>timestamp</th>\n",
       "      <th>camera_file_uuid</th>\n",
       "      <th>timestamp_ms</th>\n",
       "      <th>camera_event_type</th>\n",
       "      <th>camera_orientation</th>\n",
       "    </tr>\n",
       "  </thead>\n",
       "  <tbody>\n",
       "    <tr>\n",
       "      <th>0</th>\n",
       "      <td>1579</td>\n",
       "      <td>VIRBactioncamera360_Video_3840_2160_29.9700_39...</td>\n",
       "      <td>657</td>\n",
       "      <td>video_start</td>\n",
       "      <td>camera_orientation_0</td>\n",
       "    </tr>\n",
       "    <tr>\n",
       "      <th>1</th>\n",
       "      <td>1579</td>\n",
       "      <td>VIRBactioncamera360_Video_3840_2160_29.9700_39...</td>\n",
       "      <td>657</td>\n",
       "      <td>video_second_stream_start</td>\n",
       "      <td>camera_orientation_0</td>\n",
       "    </tr>\n",
       "  </tbody>\n",
       "</table>\n",
       "</div>"
      ],
      "text/plain": [
       "   timestamp                                   camera_file_uuid  timestamp_ms  \\\n",
       "0       1579  VIRBactioncamera360_Video_3840_2160_29.9700_39...           657   \n",
       "1       1579  VIRBactioncamera360_Video_3840_2160_29.9700_39...           657   \n",
       "\n",
       "           camera_event_type    camera_orientation  \n",
       "0                video_start  camera_orientation_0  \n",
       "1  video_second_stream_start  camera_orientation_0  "
      ]
     },
     "execution_count": 12,
     "metadata": {},
     "output_type": "execute_result"
    }
   ],
   "source": [
    "\n",
    "messages = list(it.islice(ff.get_messages('camera_event'), 0, 2, None))\n",
    "\n",
    "dfs = []\n",
    "rows = [m.get_values() for m in messages]\n",
    "dfs.append(pd.DataFrame(rows))\n",
    "\n",
    "df = dfs[0]\n",
    "\n",
    "df\n",
    "    "
   ]
  },
  {
   "cell_type": "code",
   "execution_count": 13,
   "metadata": {},
   "outputs": [
    {
     "data": {
      "text/html": [
       "<div>\n",
       "<style scoped>\n",
       "    .dataframe tbody tr th:only-of-type {\n",
       "        vertical-align: middle;\n",
       "    }\n",
       "\n",
       "    .dataframe tbody tr th {\n",
       "        vertical-align: top;\n",
       "    }\n",
       "\n",
       "    .dataframe thead th {\n",
       "        text-align: right;\n",
       "    }\n",
       "</style>\n",
       "<table border=\"1\" class=\"dataframe\">\n",
       "  <thead>\n",
       "    <tr style=\"text-align: right;\">\n",
       "      <th></th>\n",
       "      <th>timestamp</th>\n",
       "      <th>sample_time_offset</th>\n",
       "      <th>gyro_x</th>\n",
       "      <th>gyro_y</th>\n",
       "      <th>gyro_z</th>\n",
       "      <th>timestamp_ms</th>\n",
       "    </tr>\n",
       "  </thead>\n",
       "  <tbody>\n",
       "    <tr>\n",
       "      <th>0</th>\n",
       "      <td>1574</td>\n",
       "      <td>(0, 4, 8, 12, 16, 20, 24, 28, 32, 36, 40, 44, ...</td>\n",
       "      <td>(32810, 32819, 32814, 32813, 32804, 32811, 328...</td>\n",
       "      <td>(32773, 32776, 32778, 32774, 32776, 32779, 327...</td>\n",
       "      <td>(32732, 32736, 32736, 32736, 32735, 32736, 327...</td>\n",
       "      <td>761</td>\n",
       "    </tr>\n",
       "    <tr>\n",
       "      <th>1</th>\n",
       "      <td>1574</td>\n",
       "      <td>(0, 4, 8, 12, 16, 20, 24, 28, 32, 36, 40, 44, ...</td>\n",
       "      <td>(32806, 32811, 32808, 32815, 32812, 32805, 328...</td>\n",
       "      <td>(32782, 32786, 32782, 32784, 32776, 32765, 327...</td>\n",
       "      <td>(32734, 32731, 32728, 32734, 32732, 32733, 327...</td>\n",
       "      <td>881</td>\n",
       "    </tr>\n",
       "  </tbody>\n",
       "</table>\n",
       "</div>"
      ],
      "text/plain": [
       "   timestamp                                 sample_time_offset  \\\n",
       "0       1574  (0, 4, 8, 12, 16, 20, 24, 28, 32, 36, 40, 44, ...   \n",
       "1       1574  (0, 4, 8, 12, 16, 20, 24, 28, 32, 36, 40, 44, ...   \n",
       "\n",
       "                                              gyro_x  \\\n",
       "0  (32810, 32819, 32814, 32813, 32804, 32811, 328...   \n",
       "1  (32806, 32811, 32808, 32815, 32812, 32805, 328...   \n",
       "\n",
       "                                              gyro_y  \\\n",
       "0  (32773, 32776, 32778, 32774, 32776, 32779, 327...   \n",
       "1  (32782, 32786, 32782, 32784, 32776, 32765, 327...   \n",
       "\n",
       "                                              gyro_z  timestamp_ms  \n",
       "0  (32732, 32736, 32736, 32736, 32735, 32736, 327...           761  \n",
       "1  (32734, 32731, 32728, 32734, 32732, 32733, 327...           881  "
      ]
     },
     "execution_count": 13,
     "metadata": {},
     "output_type": "execute_result"
    }
   ],
   "source": [
    "\n",
    "messages = list(it.islice(ff.get_messages('gyroscope_data'), 0, 2, None))\n",
    "\n",
    "dfs = []\n",
    "rows = [m.get_values() for m in messages]\n",
    "dfs.append(pd.DataFrame(rows))\n",
    "\n",
    "df = dfs[0]\n",
    "\n",
    "df\n",
    "    "
   ]
  },
  {
   "cell_type": "code",
   "execution_count": null,
   "metadata": {},
   "outputs": [],
   "source": []
  }
 ],
 "metadata": {
  "kernelspec": {
   "display_name": "Python [conda env:sail] *",
   "language": "python",
   "name": "conda-env-sail-py"
  },
  "language_info": {
   "codemirror_mode": {
    "name": "ipython",
    "version": 3
   },
   "file_extension": ".py",
   "mimetype": "text/x-python",
   "name": "python",
   "nbconvert_exporter": "python",
   "pygments_lexer": "ipython3",
   "version": "3.7.0"
  }
 },
 "nbformat": 4,
 "nbformat_minor": 2
}
