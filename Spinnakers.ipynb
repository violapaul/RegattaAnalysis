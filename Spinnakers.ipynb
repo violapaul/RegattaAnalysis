{
 "cells": [
  {
   "cell_type": "markdown",
   "metadata": {},
   "source": [
    "# Spinnakers: Rules and Reaching\n",
    "\n",
    "We own an untagged spinnaker that is smaller than the \"class\" spinnaker (74 m2 vs 89 m2), and was produced for the previous owner as a cruising kite.  There is a question if this kite would be better on tight reaches (less than 90 apparent), rather than flying the big kite which is listed as an A2 runner and designed to sail lower.\n",
    "\n",
    "In windward/leeward racing the answer is almost certainly no.  But we often race long distances on fixed courses, which can include tight reaches for long legs.\n",
    "\n",
    "We have some experience sailing this kite doublehanded (where it is easier to handle).  And less experience sailing with a full crew.  There is anecdotal evidence it is a better reacher... and certainly puts less load on the boat below 90 AWA when the wind is above 10 kts.\n",
    "\n",
    "I have been consistently surprised that other boats fly their kites when reaching, perhaps down to 60 AWA (which can be done in 5-10 kts) and down to 90 in a wide range of conditions.  It is possible that the small kite will allow us to sail hotter and faster.\n",
    "\n",
    "**Summary**: \n",
    "- Is the spinnaker legal by rule 6.6.2 of the [J/105 CLASS ASSOCIATION RULES](http://j105.org/wp-content/uploads/2015/12/Class-Rules-2020-final.pdf)?\n",
    "- Is the spinnaker better in some conditions?"
   ]
  },
  {
   "cell_type": "markdown",
   "metadata": {},
   "source": [
    "## Rule 6.6.2\n",
    "\n",
    "![im](Data/Images/rule_6.6.2.png)\n",
    "\n",
    "<img src=\"Data/Images/rule_6.6.2.png\" width=500/>\n",
    "\n",
    "```\n",
    "SA = [(luff length + leech length) * .25 * foot length]\n",
    "    + [(half width – .5 * foot length) * (leech length + luff length)] ÷ 3\n",
    "```\n",
    "\n",
    "1. (\"SA\") shall not exceed 89 m2\n",
    "1. where luff length shall not be greater than 15,100 mm nor less than 13,600 mm, \n",
    "1. leech length shall not be greater than 12,140 mm\n",
    "1. half width shall not be less than .65 * foot length.\n",
    "\n",
    "Lengths have been measured as described here: [ORC page on measurement](https://www.orc.org/index.asp?id=17) and [Youtube video on ORC spinnaker measurement](https://youtu.be/GL6UHyQHW0M?t=157).\n",
    "\n",
    "\n",
    "\n",
    "<table style=\"width:100%\">\n",
    "  <col width=\"30%\">\n",
    "  <col width=\"70%\">    \n",
    "    <tr>\n",
    "    <td>\n",
    "        <div align=\"left\">\n",
    "            In the figure below the measurements are:            \n",
    "            <br><br>\n",
    "            - AMG: half width\n",
    "            <br> <br>\n",
    "            - SLE: leech length\n",
    "            <br> <br>\n",
    "            - SLU: luff length\n",
    "            <br> <br>\n",
    "            - ASF: foot length\n",
    "        </div>\n",
    "    </td>\n",
    "    <td>\n",
    "        <img src=\"Data/Images/kite_measurements.png\"/>\n",
    "    </td>\n",
    "  </tr>\n",
    "</table>\n",
    "\n"
   ]
  },
  {
   "cell_type": "code",
   "execution_count": 29,
   "metadata": {},
   "outputs": [],
   "source": [
    "import math\n",
    "from utils import DictClass\n",
    "\n",
    "FEET_PER_METER = 3.28084\n",
    "INCH_PER_METER = 39.37008\n",
    "\n",
    "def convert_to_metric(d):\n",
    "    res = DictClass()\n",
    "    for (k, v) in d.items():\n",
    "        feet, inch = v\n",
    "        res[k] = feet / FEET_PER_METER + inch / INCH_PER_METER\n",
    "    return res"
   ]
  },
  {
   "cell_type": "code",
   "execution_count": 30,
   "metadata": {},
   "outputs": [
    {
     "name": "stdout",
     "output_type": "stream",
     "text": [
      "foot:6.91, half:6.76, leech:11.81, luff:14.66, \n"
     ]
    }
   ],
   "source": [
    "# Measured lengths.  (feet, inches)\n",
    "kite = DictClass(luff=(48, 1), leech=(38, 9), foot=(22, 8), half=(22, 2))\n",
    "\n",
    "# Convert to metric (since everything on the boat is metric)\n",
    "mkite = convert_to_metric(kite)\n",
    "\n",
    "print(mkite)"
   ]
  },
  {
   "cell_type": "code",
   "execution_count": 33,
   "metadata": {},
   "outputs": [
    {
     "name": "stdout",
     "output_type": "stream",
     "text": [
      "foot:6.91, half:6.76, leech:11.81, luff:14.66, \n",
      "\n",
      "Rule1:  True.  SA is less than 89: 74.84\n",
      "Rule2a: True.  Luff 14.66 shall not be greater than 15.10\n",
      "Rule2b: True.  Luff 14.66 shall not be less than 13.60\n",
      "Rule3:  True.  Leech 11.81 shall not be greater than 12.14\n",
      "Rule4:  True.  Half width 6.76 shall not be less than .65 * foot length 4.49\n",
      "The kite is LEGAL.\n"
     ]
    }
   ],
   "source": [
    "def SA(kite):\n",
    "    a = ((kite.luff + kite.leech) * 0.25 * kite.foot)\n",
    "    b = ((kite.half - 0.5 * kite.foot) * (kite.leech + kite.luff)) / 3\n",
    "    return a + b\n",
    "\n",
    "print(mkite)\n",
    "print()\n",
    "\n",
    "def legal_kite(mkite):\n",
    "    # (\"SA\") shall not exceed 89 m2\n",
    "    rule1 = SA(mkite) <= 89\n",
    "    print(f\"Rule1:  {rule1}.  SA is less than 89: {SA(mkite):.2f}\")\n",
    "\n",
    "    # luff length shall not be greater than 15,100 mm nor less than 13,600 mm, \n",
    "    rule2a = mkite.luff <= 15.1\n",
    "    rule2b = 13.6 <= mkite.luff\n",
    "    print(f\"Rule2a: {rule2a}.  Luff {mkite.luff:.2f} shall not be greater than 15.10\")\n",
    "    print(f\"Rule2b: {rule2b}.  Luff {mkite.luff:.2f} shall not be less than 13.60\")\n",
    "\n",
    "    # leech length shall not be greater than 12,140 mm\n",
    "    rule3 = mkite.leech <= 12.14\n",
    "    print(f\"Rule3:  {rule3}.  Leech {mkite.leech:.2f} shall not be greater than 12.14\")\n",
    "\n",
    "    # half width shall not be less than .65 * foot length\n",
    "    rule4 = 0.65 * mkite.foot <= mkite.half\n",
    "    print(f\"Rule4:  {rule4}.  Half width {mkite.half:.2f} shall not be less than .65 * foot length {0.65 * mkite.foot:.2f}\")\n",
    "\n",
    "    if rule1 and rule2a and rule2b and rule3 and rule4:\n",
    "        print(\"The kite is LEGAL.\")\n",
    "    else:\n",
    "        print(\"The kite is NOT LEGAL.\")\n",
    "\n",
    "legal_kite(mkite)"
   ]
  },
  {
   "cell_type": "markdown",
   "metadata": {},
   "source": [
    "## The kite is legal!\n",
    "\n",
    "We don't yet know if it is a reaching design, rather than a small runner.\n",
    "\n",
    "A true reacher has a narrow half width and a shorter luff, relative to a runner. Note that the rules require a minimum luff length and a minimum half width (which ensures that the kite has lots of volume and will not sail upwind well)."
   ]
  },
  {
   "cell_type": "code",
   "execution_count": 42,
   "metadata": {},
   "outputs": [
    {
     "name": "stdout",
     "output_type": "stream",
     "text": [
      "foot:6.91, half:6.76, leech:11.81, luff:14.66, \n",
      "foot:7.91, half:7.76, leech:12.14, luff:15.10, \n",
      "Rule1:  True.  SA is less than 89: 88.42\n",
      "Rule2a: True.  Luff 15.10 shall not be greater than 15.10\n",
      "Rule2b: True.  Luff 15.10 shall not be less than 13.60\n",
      "Rule3:  True.  Leech 12.14 shall not be greater than 12.14\n",
      "Rule4:  True.  Half width 7.76 shall not be less than .65 * foot length 5.14\n",
      "The kite is LEGAL.\n"
     ]
    }
   ],
   "source": [
    "# Here is a hypothetical kite, with a max luff and leech, and a wider foot and half.\n",
    "hkite = DictClass(luff=15.1, leech=12.14, foot=7.91, half=7.76)\n",
    "print(mkite)\n",
    "print(hkite)\n",
    "\n",
    "legal_kite(hkite)"
   ]
  },
  {
   "cell_type": "markdown",
   "metadata": {},
   "source": [
    "## Is this smaller Kite better?\n",
    "\n",
    "The boring answer is no, because there is less sail.  But there may be a niche for reaching, particularly on long races like foul weather bluff.\n",
    "\n",
    "I have a set of VPP polars for the J105, computed for ORC (shown below). These polars were computed in 2011, and the rule for the 89m kite was in place for 10 years.  They show that the big kite can be used down to 45 AWA (up to 10 kts),  though in my experience the boat quickly struggles in a puff.\n",
    "\n",
    "The real payoff will be if we can get to 45 awa in 12 or 14 knots.  \n",
    "\n",
    "<table style=\"width:100%\">\n",
    "  <col width=\"20%\">\n",
    "  <col width=\"80%\">    \n",
    "    <tr>\n",
    "    <td>\n",
    "        <div align=\"left\">\n",
    "            There is another python notebook on Polars, but it is worth staring at this for a second (particularly \n",
    "            when trying to sail upwind on a spinnaker).\n",
    "            <br> <br>\n",
    "            On the \"true wind\" side you can hold a kite down to 75 TWA, but this is not a particularly good spot.\n",
    "            You are better off either sailing higher on the jib, or lower on the kite.\n",
    "            <br> <br>\n",
    "            In practice you should not really sail much lower than 90 TWA. Though you may need to hold it though a \n",
    "            puff or two.\n",
    "            <br> <br>\n",
    "            On the apparent wind side, the angles are much lower, down to 45 AWA.  Even though the geometry/trig of \n",
    "            this is straightforward,  I found it a bit surprising.  I don't think about flying a kite much lower \n",
    "            than 80 AWA.\n",
    "            <br> <br>\n",
    "            So, we should be willing to consider sailing down to 45-60 AWA, but it may not be very effective.  \n",
    "        </div>\n",
    "    </td>\n",
    "    <td>\n",
    "        <img src=\"Data/Images/polars_pic.png\"/>\n",
    "    </td>\n",
    "  </tr>\n",
    "</table>\n",
    "\n",
    "\n",
    "\n",
    "<table style=\"width:100%\">\n",
    "  <col width=\"30%\">\n",
    "  <col width=\"70%\">    \n",
    "    <tr>\n",
    "    <td>\n",
    "        <div align=\"left\">\n",
    "            One of the tricky implications of all this is what happens if the winds change.  If you are on a 90 degree \n",
    "            TWA reach, and then get a header, it can be hard to drop the kite.  Even if you are willing to sail down, \n",
    "            you'll eventually need to sail away from the mark.\n",
    "            <br><br>\n",
    "            No matter what, the drop at the mark could be hard.  \n",
    "            <br><br>\n",
    "            The correct drop is a leeward (a high risk maneuver).  Pull out the jib on the leeward side, and then blow the halyard.  (See below.)\n",
    "            <br><br>\n",
    "            In light winds you can do a tack-mexican, or taxican.\n",
    "            Pull out the jib on the windward side, and then tack up through wind (under kite if at all possible).  \n",
    "            Then drop, much like a mexican.\n",
    "        </div>\n",
    "      </td>\n",
    "    <td>\n",
    "        <img src=\"Data/Images/reach_on_kite.png\"/>\n",
    "      </td>\n",
    "  </tr>\n",
    "</table>"
   ]
  },
  {
   "cell_type": "markdown",
   "metadata": {},
   "source": [
    "### Leeward Drop\n",
    "\n",
    "From Dave Ullman:  [LINK](http://j105.org/wp-content/uploads/2016/01/Dousing.pdf)\n",
    "\n",
    "> The general rule we use now is: unless we absolutely have to, we\n",
    "> won’t do a leeward drop in more than 7 knots of wind. Only if\n",
    "> you’re laying the mark, or worse, if you’re overlayed, should you\n",
    "> attempt a leeward takedown.  Here’s how to do it properly. If you\n",
    "> have a very competent crew, and enough people, keep heading\n",
    "> toward the mark and blow the halyard, **release it completely**. If\n",
    "> you leave the tack nailed and the foot stretched tight, you\n",
    "> usually won’t shrimp. Like a symmetric spinnaker, the a-sail\n",
    "> should float just over the water. Then grab the middle of the\n",
    "> foot and haul the sail into the boat through the forward hatch.\n",
    ">\n",
    "> If you don’t have 100% percent confidence in your crew work,\n",
    "> you’ll want to run off for two or three boatlengths as you douse\n",
    "> the sail. This will blanket the chute behind the main,\n",
    "> depressurizing the sail so you can gather it in, under\n",
    "> control. But running off will take you away from the mark\n",
    "\n",
    "\n",
    "### Letterbox?\n",
    "\n",
    "Another option is a letterbox drop [VIDEO](https://www.uksailmakers.com/news/2019/10/30/letterbox-takedown-video-updated).  In my experience you can do a letterbox at any apparent wind angle, even with the jib furled.  \n",
    "\n",
    "\n",
    "## A reach to a reach\n",
    "\n",
    "We ran into a related issue in a recent race.  We were reaching on spinnaker at 90 TWA to the mark, tacking, and then sailing almost directly back.  We did not realize it at the time, but **we would be on spinnaker for both legs**.\n",
    "\n",
    "This is a especially tricky situation, and almost impossible in winds above 10kts.  For 10+ I feel we should probably douse early (or never raise) and then tack through."
   ]
  },
  {
   "cell_type": "code",
   "execution_count": null,
   "metadata": {},
   "outputs": [],
   "source": []
  }
 ],
 "metadata": {
  "kernelspec": {
   "display_name": "Python [conda env:sail] *",
   "language": "python",
   "name": "conda-env-sail-py"
  },
  "language_info": {
   "codemirror_mode": {
    "name": "ipython",
    "version": 3
   },
   "file_extension": ".py",
   "mimetype": "text/x-python",
   "name": "python",
   "nbconvert_exporter": "python",
   "pygments_lexer": "ipython3",
   "version": "3.7.0"
  }
 },
 "nbformat": 4,
 "nbformat_minor": 2
}
