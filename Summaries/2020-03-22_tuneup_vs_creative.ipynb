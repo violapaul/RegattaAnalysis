{
 "cells": [
  {
   "cell_type": "markdown",
   "metadata": {},
   "source": [
    "# Tune Up vs Creative 2020-03-22\n",
    "\n",
    "[RaceQs video](https://youtu.be/Pt6hNME7Uac)\n",
    "\n",
    "[RaceQs Link](https://raceqs.com/tv-beta/tv.htm#userId=1073253&updatedAt=2020-04-13T23:02:27Z&dt=2020-04-12T11:35:37-07:00..2020-04-12T12:28:01-07:00&boat=Peer%20Gynt)\n",
    "\n",
    "### Crew \n",
    "\n",
    "Peer Gynt: Sara and Paul.  Creative: Al and Shauna\n",
    "\n",
    "## Summary\n",
    "\n",
    "Quick upwind race from West Point to Meadow Point.  I know I was a bit confused about the start...  but Creative was clearly the better boat, consistently picking up boat lengths on every leg.  Nice job folks.\n",
    "\n",
    "## Settings\n",
    "\n",
    "Generally we were going for depowered settings, don't know if we overdid it.  With waves perhaps we needed to go for more power?\n",
    "\n",
    "- Shroud settings for 14-18 (base is 10-14).  Sara did the mast sighting before the \"race\".   \n",
    "  - While we were out she reported some fall of at the mast head (rather than sag in the middle).  We did not adjust.\n",
    "  - Afterward Sara mentioned a difference from PORT to STBD.  *More details?*\n",
    "- Jib cars at base (3 for us... but its a just a spot on the rail).\n",
    "- Backstay on (between 3 and 4 inches).  Alot for us (but not max).\n",
    "- Outhaul on hard (*red to red?*)\n",
    "- Main halyard at 10 (near max). Plus 6-9 inches of cunningham. \n",
    "  - This is close to max for us.  We need more when the ba\n",
    "- Jib halyard at 9-10 (near max for us).\n",
    "- Main: Most of the time top telltale streaming.\n",
    "- Jib: Inside the shrouds.  Between 2-3 tapes red/green (counting from outside in).\n",
    "\n",
    "\n",
    "## Observations\n",
    "\n",
    "- Paul drove a bit more than half the time.  Sara's been driving lately and doing better.\n",
    "  - Paul likes to try to play the main (while driving),  but that is near impossible in those conditions.\n",
    "- Generally a lot of heel, but not too much weather helm.\n",
    "  - The depowered settings were meant to improve this, but perhpas we did too much?\n",
    "  - Did we need more power to punch through waves?\n",
    "- We generally did not sail higher than Creative.  \n",
    "\n",
    "\n",
    "## Conditions\n",
    "\n",
    "Sunny warm (50+).  Wind 10-15 (mostly 13ish).  Sea state 2-4 ft (big ebb tide combined with winds form the North).\n",
    "\n",
    "\n",
    "![im](Data/Images/2020-14-12_tides.png)\n",
    "![im](Data/Images/2020-14-12_West_Point_Wind.png)\n",
    "![im](Data/Images/2020-14-12_Golden_Gardens_Wind.png)"
   ]
  }
 ],
 "metadata": {
  "kernelspec": {
   "display_name": "Python [conda env:sail] *",
   "language": "python",
   "name": "conda-env-sail-py"
  },
  "language_info": {
   "codemirror_mode": {
    "name": "ipython",
    "version": 3
   },
   "file_extension": ".py",
   "mimetype": "text/x-python",
   "name": "python",
   "nbconvert_exporter": "python",
   "pygments_lexer": "ipython3",
   "version": "3.7.0"
  }
 },
 "nbformat": 4,
 "nbformat_minor": 2
}
